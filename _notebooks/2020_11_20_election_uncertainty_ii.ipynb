{
  "nbformat": 4,
  "nbformat_minor": 0,
  "metadata": {
    "colab": {
      "name": "2020-11-20-election-uncertainty-ii",
      "provenance": [],
      "authorship_tag": "ABX9TyNx9RObFoTNFlR0uQR9HNyJ"
    },
    "kernelspec": {
      "name": "python3",
      "display_name": "Python 3"
    }
  },
  "cells": [
    {
      "cell_type": "markdown",
      "metadata": {
        "id": "dvlOx244T0Do"
      },
      "source": [
        "# Evolving Election Uncertainty Pt. II "
      ]
    },
    {
      "cell_type": "code",
      "metadata": {
        "id": "CRAY439jd54f",
        "cellView": "form"
      },
      "source": [
        "#@title\n",
        "#hide\n",
        "import pandas as pd \n",
        "import numpy as np\n",
        "import altair as alt\n",
        "import datetime as dt\n",
        "alt.themes.enable('fivethirtyeight')\n",
        "pd.options.mode.chained_assignment = None"
      ],
      "execution_count": null,
      "outputs": []
    },
    {
      "cell_type": "code",
      "metadata": {
        "id": "m_z5jbTkVcli"
      },
      "source": [
        ""
      ],
      "execution_count": null,
      "outputs": []
    },
    {
      "cell_type": "code",
      "metadata": {
        "id": "uVQ8D9VyeFpQ",
        "cellView": "form"
      },
      "source": [
        "#@title\n",
        "#hide_input\n",
        "urls = [\"https://raw.githubusercontent.com/srcnor/minding_constraints/master/data/Who_will_win_the_2020_U.S._presidential_election_.csv\",\n",
        "        \"https://raw.githubusercontent.com/srcnor/minding_constraints/master/data/Who_will_win_the_2020_U.S._presidential_election__(1).csv\",\n",
        "        \"https://raw.githubusercontent.com/srcnor/minding_constraints/master/data/Who_will_win_the_2020_U.S._presidential_election__(2).csv\",\n",
        "]"
      ],
      "execution_count": null,
      "outputs": []
    },
    {
      "cell_type": "code",
      "metadata": {
        "id": "buIwfpe-ruBL",
        "cellView": "form"
      },
      "source": [
        "#@title\n",
        "#hide_input\n",
        "csv_list = list()\n",
        "\n",
        "for i in urls:\n",
        "  csv_list.append(pd.read_csv(i, error_bad_lines=False))\n",
        "\n",
        "df = pd.concat(csv_list)"
      ],
      "execution_count": null,
      "outputs": []
    },
    {
      "cell_type": "code",
      "metadata": {
        "id": "e9fgpVFKurzE",
        "cellView": "form"
      },
      "source": [
        "#@title\n",
        "#hide_input\n",
        "df['Candidate']= df['ContractName'].astype(str)\n",
        "df = df[df['Candidate'].isin(['Biden', 'Trump'])]\n",
        "df['Win Probability']= df['CloseSharePrice'].str.lstrip('\\$').astype(float)\n",
        "df['Date']= pd.to_datetime(df['Date'])\n",
        "df = df[df['Date'] > pd.to_datetime('2020-11-03')]"
      ],
      "execution_count": null,
      "outputs": []
    },
    {
      "cell_type": "markdown",
      "metadata": {
        "id": "ZJHO7bcD1Ywd"
      },
      "source": [
        "In our [last post](http://mindingconstraints.com/2020/10/30/election-uncertainty.html), we looked at how the implied presidential election probabilities on PredictIt showed a distinct persistence throughout the presidential campaign, despite the fact that uncertainty about a future event should generally decline as the event itself approaches. \n",
        "\n",
        "On election night itself, PredictIt shook off that persistence.\n",
        "\n",
        "Well actually on election night *itself* PredictIt mostly buckled under the weight of all of the traders attempting to get in on the action: "
      ]
    },
    {
      "cell_type": "code",
      "metadata": {
        "colab": {
          "base_uri": "https://localhost:8080/",
          "height": 404
        },
        "cellView": "form",
        "id": "xRfjqi2lvq9D",
        "outputId": "6cc5ff22-86e2-4b1e-857a-27e569ade615"
      },
      "source": [
        "#@title\n",
        "#hide_input\n",
        "df_vol = df.groupby(\"Date\", as_index = False).sum(\"TradeVolume\")\n",
        "\n",
        "alt.Chart(df_vol).mark_bar(color='rgb(74,82,90').encode(\n",
        "    x=alt.X('Date', axis=alt.Axis(title='')),\n",
        "    y=alt.Y('TradeVolume', axis=alt.Axis(title='Shares Traded')),\n",
        "    # color=alt.Color('rgb(74,82,90)'),\n",
        "    tooltip=['Date', alt.Tooltip('Date', timeUnit=\"hours\"), 'TradeVolume'],\n",
        ").properties(\n",
        "    title = \"PredictIt Presidential Market Trading Volume\"\n",
        ")"
      ],
      "execution_count": 42,
      "outputs": [
        {
          "output_type": "execute_result",
          "data": {
            "text/plain": [
              "alt.Chart(...)"
            ],
            "text/html": [
              "\n",
              "<div id=\"altair-viz-249dca22565c415fad903cd7a624f5d5\"></div>\n",
              "<script type=\"text/javascript\">\n",
              "  (function(spec, embedOpt){\n",
              "    let outputDiv = document.currentScript.previousElementSibling;\n",
              "    if (outputDiv.id !== \"altair-viz-249dca22565c415fad903cd7a624f5d5\") {\n",
              "      outputDiv = document.getElementById(\"altair-viz-249dca22565c415fad903cd7a624f5d5\");\n",
              "    }\n",
              "    const paths = {\n",
              "      \"vega\": \"https://cdn.jsdelivr.net/npm//vega@5?noext\",\n",
              "      \"vega-lib\": \"https://cdn.jsdelivr.net/npm//vega-lib?noext\",\n",
              "      \"vega-lite\": \"https://cdn.jsdelivr.net/npm//vega-lite@4.8.1?noext\",\n",
              "      \"vega-embed\": \"https://cdn.jsdelivr.net/npm//vega-embed@6?noext\",\n",
              "    };\n",
              "\n",
              "    function loadScript(lib) {\n",
              "      return new Promise(function(resolve, reject) {\n",
              "        var s = document.createElement('script');\n",
              "        s.src = paths[lib];\n",
              "        s.async = true;\n",
              "        s.onload = () => resolve(paths[lib]);\n",
              "        s.onerror = () => reject(`Error loading script: ${paths[lib]}`);\n",
              "        document.getElementsByTagName(\"head\")[0].appendChild(s);\n",
              "      });\n",
              "    }\n",
              "\n",
              "    function showError(err) {\n",
              "      outputDiv.innerHTML = `<div class=\"error\" style=\"color:red;\">${err}</div>`;\n",
              "      throw err;\n",
              "    }\n",
              "\n",
              "    function displayChart(vegaEmbed) {\n",
              "      vegaEmbed(outputDiv, spec, embedOpt)\n",
              "        .catch(err => showError(`Javascript Error: ${err.message}<br>This usually means there's a typo in your chart specification. See the javascript console for the full traceback.`));\n",
              "    }\n",
              "\n",
              "    if(typeof define === \"function\" && define.amd) {\n",
              "      requirejs.config({paths});\n",
              "      require([\"vega-embed\"], displayChart, err => showError(`Error loading script: ${err.message}`));\n",
              "    } else if (typeof vegaEmbed === \"function\") {\n",
              "      displayChart(vegaEmbed);\n",
              "    } else {\n",
              "      loadScript(\"vega\")\n",
              "        .then(() => loadScript(\"vega-lite\"))\n",
              "        .then(() => loadScript(\"vega-embed\"))\n",
              "        .catch(showError)\n",
              "        .then(() => displayChart(vegaEmbed));\n",
              "    }\n",
              "  })({\"usermeta\": {\"embedOptions\": {\"theme\": \"fivethirtyeight\"}}, \"config\": {\"view\": {\"continuousWidth\": 400, \"continuousHeight\": 300}}, \"data\": {\"name\": \"data-236adfd9978deba0b30213a9326e279e\"}, \"mark\": {\"type\": \"bar\", \"color\": \"rgb(74,82,90\"}, \"encoding\": {\"tooltip\": [{\"type\": \"temporal\", \"field\": \"Date\"}, {\"type\": \"temporal\", \"field\": \"Date\", \"timeUnit\": \"hours\"}, {\"type\": \"quantitative\", \"field\": \"TradeVolume\"}], \"x\": {\"type\": \"temporal\", \"axis\": {\"title\": \"\"}, \"field\": \"Date\"}, \"y\": {\"type\": \"quantitative\", \"axis\": {\"title\": \"Shares Traded\"}, \"field\": \"TradeVolume\"}}, \"title\": \"PredictIt Presidential Market Trading Volume\", \"$schema\": \"https://vega.github.io/schema/vega-lite/v4.8.1.json\", \"datasets\": {\"data-236adfd9978deba0b30213a9326e279e\": [{\"Date\": \"2020-11-03T18:00:00\", \"TradeVolume\": 38767, \"Win Probability\": 1.06}, {\"Date\": \"2020-11-03T19:00:00\", \"TradeVolume\": 33308, \"Win Probability\": 1.07}, {\"Date\": \"2020-11-03T20:00:00\", \"TradeVolume\": 33789, \"Win Probability\": 1.07}, {\"Date\": \"2020-11-03T21:00:00\", \"TradeVolume\": 29531, \"Win Probability\": 1.06}, {\"Date\": \"2020-11-03T22:00:00\", \"TradeVolume\": 32692, \"Win Probability\": 1.09}, {\"Date\": \"2020-11-03T23:00:00\", \"TradeVolume\": 31520, \"Win Probability\": 1.08}, {\"Date\": \"2020-11-04T00:00:00\", \"TradeVolume\": 46019, \"Win Probability\": 1.1}, {\"Date\": \"2020-11-04T01:00:00\", \"TradeVolume\": 888, \"Win Probability\": 1.11}, {\"Date\": \"2020-11-04T02:00:00\", \"TradeVolume\": 2127, \"Win Probability\": 1.11}, {\"Date\": \"2020-11-04T03:00:00\", \"TradeVolume\": 7006, \"Win Probability\": 1.11}, {\"Date\": \"2020-11-04T04:00:00\", \"TradeVolume\": 206874, \"Win Probability\": 1.02}, {\"Date\": \"2020-11-04T05:00:00\", \"TradeVolume\": 53072, \"Win Probability\": 1.01}, {\"Date\": \"2020-11-04T06:00:00\", \"TradeVolume\": 30952, \"Win Probability\": 1.08}, {\"Date\": \"2020-11-04T07:00:00\", \"TradeVolume\": 38223, \"Win Probability\": 1.07}, {\"Date\": \"2020-11-04T08:00:00\", \"TradeVolume\": 149535, \"Win Probability\": 1.02}, {\"Date\": \"2020-11-04T09:00:00\", \"TradeVolume\": 97186, \"Win Probability\": 1.04}, {\"Date\": \"2020-11-04T10:00:00\", \"TradeVolume\": 77, \"Win Probability\": 1.02}, {\"Date\": \"2020-11-04T11:00:00\", \"TradeVolume\": 101782, \"Win Probability\": 1.06}, {\"Date\": \"2020-11-04T12:00:00\", \"TradeVolume\": 99091, \"Win Probability\": 1.0899999999999999}, {\"Date\": \"2020-11-04T13:00:00\", \"TradeVolume\": 124952, \"Win Probability\": 1.07}, {\"Date\": \"2020-11-04T14:00:00\", \"TradeVolume\": 109234, \"Win Probability\": 1.08}, {\"Date\": \"2020-11-04T15:00:00\", \"TradeVolume\": 162968, \"Win Probability\": 1.04}, {\"Date\": \"2020-11-04T16:00:00\", \"TradeVolume\": 125551, \"Win Probability\": 1.06}, {\"Date\": \"2020-11-04T17:00:00\", \"TradeVolume\": 100166, \"Win Probability\": 1.03}, {\"Date\": \"2020-11-04T20:00:00\", \"TradeVolume\": 65621, \"Win Probability\": 1.04}, {\"Date\": \"2020-11-04T21:00:00\", \"TradeVolume\": 54435, \"Win Probability\": 1.03}, {\"Date\": \"2020-11-04T22:00:00\", \"TradeVolume\": 7135, \"Win Probability\": 1.03}, {\"Date\": \"2020-11-04T23:00:00\", \"TradeVolume\": 78850, \"Win Probability\": 1.01}, {\"Date\": \"2020-11-05T00:00:00\", \"TradeVolume\": 66132, \"Win Probability\": 1.05}, {\"Date\": \"2020-11-05T01:00:00\", \"TradeVolume\": 44187, \"Win Probability\": 1.0}, {\"Date\": \"2020-11-05T02:00:00\", \"TradeVolume\": 30459, \"Win Probability\": 1.02}, {\"Date\": \"2020-11-05T03:00:00\", \"TradeVolume\": 40620, \"Win Probability\": 1.0}, {\"Date\": \"2020-11-05T04:00:00\", \"TradeVolume\": 37721, \"Win Probability\": 1.02}, {\"Date\": \"2020-11-05T05:00:00\", \"TradeVolume\": 29261, \"Win Probability\": 1.06}, {\"Date\": \"2020-11-05T06:00:00\", \"TradeVolume\": 15823, \"Win Probability\": 1.05}, {\"Date\": \"2020-11-05T07:00:00\", \"TradeVolume\": 11709, \"Win Probability\": 1.03}, {\"Date\": \"2020-11-05T08:00:00\", \"TradeVolume\": 9803, \"Win Probability\": 1.06}, {\"Date\": \"2020-11-05T09:00:00\", \"TradeVolume\": 6161, \"Win Probability\": 1.06}, {\"Date\": \"2020-11-05T10:00:00\", \"TradeVolume\": 0, \"Win Probability\": 1.06}, {\"Date\": \"2020-11-05T11:00:00\", \"TradeVolume\": 5707, \"Win Probability\": 1.03}, {\"Date\": \"2020-11-05T12:00:00\", \"TradeVolume\": 4166, \"Win Probability\": 1.04}, {\"Date\": \"2020-11-05T13:00:00\", \"TradeVolume\": 9465, \"Win Probability\": 1.07}, {\"Date\": \"2020-11-05T14:00:00\", \"TradeVolume\": 12539, \"Win Probability\": 1.0699999999999998}, {\"Date\": \"2020-11-05T15:00:00\", \"TradeVolume\": 21534, \"Win Probability\": 1.02}, {\"Date\": \"2020-11-05T16:00:00\", \"TradeVolume\": 24827, \"Win Probability\": 1.05}, {\"Date\": \"2020-11-05T17:00:00\", \"TradeVolume\": 19507, \"Win Probability\": 1.05}, {\"Date\": \"2020-11-05T18:00:00\", \"TradeVolume\": 22327, \"Win Probability\": 1.04}, {\"Date\": \"2020-11-05T19:00:00\", \"TradeVolume\": 20495, \"Win Probability\": 1.05}]}}, {\"mode\": \"vega-lite\"});\n",
              "</script>"
            ]
          },
          "metadata": {
            "tags": []
          },
          "execution_count": 42
        }
      ]
    },
    {
      "cell_type": "markdown",
      "metadata": {
        "id": "mPDwIUOZtpS0"
      },
      "source": [
        "The biggest event of election night was the calling of Florida for Trump, which occurred just before midnight Eastern Time. Traders promptly flooded the market and caused an outage at PredictIt. When the site came back online around 4AM there was significant pent up demand and volume surged. *Then* the presidential probabilities shook off their persistence: "
      ]
    },
    {
      "cell_type": "code",
      "metadata": {
        "colab": {
          "base_uri": "https://localhost:8080/",
          "height": 428
        },
        "id": "F3XigldcvU7d",
        "cellView": "form",
        "outputId": "2382a564-9cb8-4d70-c16f-94baf4681410"
      },
      "source": [
        "#@title\n",
        "#hide_input\n",
        "alt.Chart(df).mark_line(size = 2).encode(\n",
        "    x='Date',\n",
        "    y=alt.Y('Win Probability',\n",
        "        scale=alt.Scale(domain=[0,1])\n",
        "    ),\n",
        "    color='Candidate',\n",
        "    tooltip=['Date', alt.Tooltip('Date', timeUnit=\"hours\"), 'Win Probability', 'Candidate'],\n",
        ").properties(\n",
        "    title = \"PredictIt Presidential Probabilites\"\n",
        ")"
      ],
      "execution_count": null,
      "outputs": [
        {
          "output_type": "execute_result",
          "data": {
            "text/plain": [
              "alt.Chart(...)"
            ],
            "text/html": [
              "\n",
              "<div id=\"altair-viz-a87e5fc2a0d04c789488f89bc1534884\"></div>\n",
              "<script type=\"text/javascript\">\n",
              "  (function(spec, embedOpt){\n",
              "    let outputDiv = document.currentScript.previousElementSibling;\n",
              "    if (outputDiv.id !== \"altair-viz-a87e5fc2a0d04c789488f89bc1534884\") {\n",
              "      outputDiv = document.getElementById(\"altair-viz-a87e5fc2a0d04c789488f89bc1534884\");\n",
              "    }\n",
              "    const paths = {\n",
              "      \"vega\": \"https://cdn.jsdelivr.net/npm//vega@5?noext\",\n",
              "      \"vega-lib\": \"https://cdn.jsdelivr.net/npm//vega-lib?noext\",\n",
              "      \"vega-lite\": \"https://cdn.jsdelivr.net/npm//vega-lite@4.8.1?noext\",\n",
              "      \"vega-embed\": \"https://cdn.jsdelivr.net/npm//vega-embed@6?noext\",\n",
              "    };\n",
              "\n",
              "    function loadScript(lib) {\n",
              "      return new Promise(function(resolve, reject) {\n",
              "        var s = document.createElement('script');\n",
              "        s.src = paths[lib];\n",
              "        s.async = true;\n",
              "        s.onload = () => resolve(paths[lib]);\n",
              "        s.onerror = () => reject(`Error loading script: ${paths[lib]}`);\n",
              "        document.getElementsByTagName(\"head\")[0].appendChild(s);\n",
              "      });\n",
              "    }\n",
              "\n",
              "    function showError(err) {\n",
              "      outputDiv.innerHTML = `<div class=\"error\" style=\"color:red;\">${err}</div>`;\n",
              "      throw err;\n",
              "    }\n",
              "\n",
              "    function displayChart(vegaEmbed) {\n",
              "      vegaEmbed(outputDiv, spec, embedOpt)\n",
              "        .catch(err => showError(`Javascript Error: ${err.message}<br>This usually means there's a typo in your chart specification. See the javascript console for the full traceback.`));\n",
              "    }\n",
              "\n",
              "    if(typeof define === \"function\" && define.amd) {\n",
              "      requirejs.config({paths});\n",
              "      require([\"vega-embed\"], displayChart, err => showError(`Error loading script: ${err.message}`));\n",
              "    } else if (typeof vegaEmbed === \"function\") {\n",
              "      displayChart(vegaEmbed);\n",
              "    } else {\n",
              "      loadScript(\"vega\")\n",
              "        .then(() => loadScript(\"vega-lite\"))\n",
              "        .then(() => loadScript(\"vega-embed\"))\n",
              "        .catch(showError)\n",
              "        .then(() => displayChart(vegaEmbed));\n",
              "    }\n",
              "  })({\"usermeta\": {\"embedOptions\": {\"theme\": \"fivethirtyeight\"}}, \"config\": {\"view\": {\"continuousWidth\": 400, \"continuousHeight\": 300}}, \"data\": {\"name\": \"data-54c9cfb9ff8af82d32c0e4c5edf280e1\"}, \"mark\": \"line\", \"encoding\": {\"color\": {\"type\": \"nominal\", \"field\": \"Candidate\"}, \"tooltip\": [{\"type\": \"temporal\", \"field\": \"Date\"}, {\"type\": \"temporal\", \"field\": \"Date\", \"timeUnit\": \"hours\"}, {\"type\": \"quantitative\", \"field\": \"Win Probability\"}, {\"type\": \"nominal\", \"field\": \"Candidate\"}], \"x\": {\"type\": \"temporal\", \"field\": \"Date\"}, \"y\": {\"type\": \"quantitative\", \"field\": \"Win Probability\", \"scale\": {\"domain\": [0, 1]}}}, \"title\": \"PredictIt Presidential Probabilites\", \"$schema\": \"https://vega.github.io/schema/vega-lite/v4.8.1.json\", \"datasets\": {\"data-54c9cfb9ff8af82d32c0e4c5edf280e1\": [{\"ContractName\": \"Biden\", \"Date\": \"2020-11-03T18:00:00\", \"OpenSharePrice\": \"$0.64\", \"HighSharePrice\": \"$0.66\", \"LowSharePrice\": \"$0.64\", \"CloseSharePrice\": \"$0.65\", \"TradeVolume\": 16439, \"Candidate\": \"Biden\", \"Win Probability\": 0.65}, {\"ContractName\": \"Trump\", \"Date\": \"2020-11-03T18:00:00\", \"OpenSharePrice\": \"$0.42\", \"HighSharePrice\": \"$0.43\", \"LowSharePrice\": \"$0.40\", \"CloseSharePrice\": \"$0.41\", \"TradeVolume\": 22328, \"Candidate\": \"Trump\", \"Win Probability\": 0.41}, {\"ContractName\": \"Biden\", \"Date\": \"2020-11-03T19:00:00\", \"OpenSharePrice\": \"$0.65\", \"HighSharePrice\": \"$0.67\", \"LowSharePrice\": \"$0.64\", \"CloseSharePrice\": \"$0.65\", \"TradeVolume\": 14174, \"Candidate\": \"Biden\", \"Win Probability\": 0.65}, {\"ContractName\": \"Trump\", \"Date\": \"2020-11-03T19:00:00\", \"OpenSharePrice\": \"$0.41\", \"HighSharePrice\": \"$0.43\", \"LowSharePrice\": \"$0.40\", \"CloseSharePrice\": \"$0.42\", \"TradeVolume\": 19134, \"Candidate\": \"Trump\", \"Win Probability\": 0.42}, {\"ContractName\": \"Biden\", \"Date\": \"2020-11-03T20:00:00\", \"OpenSharePrice\": \"$0.65\", \"HighSharePrice\": \"$0.67\", \"LowSharePrice\": \"$0.65\", \"CloseSharePrice\": \"$0.66\", \"TradeVolume\": 16454, \"Candidate\": \"Biden\", \"Win Probability\": 0.66}, {\"ContractName\": \"Trump\", \"Date\": \"2020-11-03T20:00:00\", \"OpenSharePrice\": \"$0.42\", \"HighSharePrice\": \"$0.43\", \"LowSharePrice\": \"$0.41\", \"CloseSharePrice\": \"$0.41\", \"TradeVolume\": 17335, \"Candidate\": \"Trump\", \"Win Probability\": 0.41}, {\"ContractName\": \"Biden\", \"Date\": \"2020-11-03T21:00:00\", \"OpenSharePrice\": \"$0.66\", \"HighSharePrice\": \"$0.67\", \"LowSharePrice\": \"$0.65\", \"CloseSharePrice\": \"$0.66\", \"TradeVolume\": 12351, \"Candidate\": \"Biden\", \"Win Probability\": 0.66}, {\"ContractName\": \"Trump\", \"Date\": \"2020-11-03T21:00:00\", \"OpenSharePrice\": \"$0.41\", \"HighSharePrice\": \"$0.43\", \"LowSharePrice\": \"$0.40\", \"CloseSharePrice\": \"$0.40\", \"TradeVolume\": 17180, \"Candidate\": \"Trump\", \"Win Probability\": 0.4}, {\"ContractName\": \"Biden\", \"Date\": \"2020-11-03T22:00:00\", \"OpenSharePrice\": \"$0.66\", \"HighSharePrice\": \"$0.68\", \"LowSharePrice\": \"$0.65\", \"CloseSharePrice\": \"$0.67\", \"TradeVolume\": 14862, \"Candidate\": \"Biden\", \"Win Probability\": 0.67}, {\"ContractName\": \"Trump\", \"Date\": \"2020-11-03T22:00:00\", \"OpenSharePrice\": \"$0.40\", \"HighSharePrice\": \"$0.42\", \"LowSharePrice\": \"$0.40\", \"CloseSharePrice\": \"$0.42\", \"TradeVolume\": 17830, \"Candidate\": \"Trump\", \"Win Probability\": 0.42}, {\"ContractName\": \"Biden\", \"Date\": \"2020-11-03T23:00:00\", \"OpenSharePrice\": \"$0.67\", \"HighSharePrice\": \"$0.69\", \"LowSharePrice\": \"$0.67\", \"CloseSharePrice\": \"$0.68\", \"TradeVolume\": 12122, \"Candidate\": \"Biden\", \"Win Probability\": 0.68}, {\"ContractName\": \"Trump\", \"Date\": \"2020-11-03T23:00:00\", \"OpenSharePrice\": \"$0.42\", \"HighSharePrice\": \"$0.42\", \"LowSharePrice\": \"$0.39\", \"CloseSharePrice\": \"$0.40\", \"TradeVolume\": 19398, \"Candidate\": \"Trump\", \"Win Probability\": 0.4}, {\"ContractName\": \"Biden\", \"Date\": \"2020-11-04T00:00:00\", \"OpenSharePrice\": \"$0.68\", \"HighSharePrice\": \"$0.71\", \"LowSharePrice\": \"$0.67\", \"CloseSharePrice\": \"$0.68\", \"TradeVolume\": 19739, \"Candidate\": \"Biden\", \"Win Probability\": 0.68}, {\"ContractName\": \"Trump\", \"Date\": \"2020-11-04T00:00:00\", \"OpenSharePrice\": \"$0.40\", \"HighSharePrice\": \"$0.43\", \"LowSharePrice\": \"$0.36\", \"CloseSharePrice\": \"$0.42\", \"TradeVolume\": 26280, \"Candidate\": \"Trump\", \"Win Probability\": 0.42}, {\"ContractName\": \"Biden\", \"Date\": \"2020-11-04T01:00:00\", \"OpenSharePrice\": \"$0.68\", \"HighSharePrice\": \"$0.68\", \"LowSharePrice\": \"$0.68\", \"CloseSharePrice\": \"$0.68\", \"TradeVolume\": 52, \"Candidate\": \"Biden\", \"Win Probability\": 0.68}, {\"ContractName\": \"Trump\", \"Date\": \"2020-11-04T01:00:00\", \"OpenSharePrice\": \"$0.42\", \"HighSharePrice\": \"$0.43\", \"LowSharePrice\": \"$0.40\", \"CloseSharePrice\": \"$0.43\", \"TradeVolume\": 836, \"Candidate\": \"Trump\", \"Win Probability\": 0.43}, {\"ContractName\": \"Biden\", \"Date\": \"2020-11-04T02:00:00\", \"OpenSharePrice\": \"$0.68\", \"HighSharePrice\": \"$0.69\", \"LowSharePrice\": \"$0.68\", \"CloseSharePrice\": \"$0.68\", \"TradeVolume\": 2016, \"Candidate\": \"Biden\", \"Win Probability\": 0.68}, {\"ContractName\": \"Trump\", \"Date\": \"2020-11-04T02:00:00\", \"OpenSharePrice\": \"$0.43\", \"HighSharePrice\": \"$0.43\", \"LowSharePrice\": \"$0.42\", \"CloseSharePrice\": \"$0.43\", \"TradeVolume\": 111, \"Candidate\": \"Trump\", \"Win Probability\": 0.43}, {\"ContractName\": \"Biden\", \"Date\": \"2020-11-04T03:00:00\", \"OpenSharePrice\": \"$0.68\", \"HighSharePrice\": \"$0.69\", \"LowSharePrice\": \"$0.67\", \"CloseSharePrice\": \"$0.67\", \"TradeVolume\": 3322, \"Candidate\": \"Biden\", \"Win Probability\": 0.67}, {\"ContractName\": \"Trump\", \"Date\": \"2020-11-04T03:00:00\", \"OpenSharePrice\": \"$0.43\", \"HighSharePrice\": \"$0.44\", \"LowSharePrice\": \"$0.43\", \"CloseSharePrice\": \"$0.44\", \"TradeVolume\": 3684, \"Candidate\": \"Trump\", \"Win Probability\": 0.44}, {\"ContractName\": \"Biden\", \"Date\": \"2020-11-04T04:00:00\", \"OpenSharePrice\": \"$0.67\", \"HighSharePrice\": \"$0.67\", \"LowSharePrice\": \"$0.15\", \"CloseSharePrice\": \"$0.38\", \"TradeVolume\": 81337, \"Candidate\": \"Biden\", \"Win Probability\": 0.38}, {\"ContractName\": \"Trump\", \"Date\": \"2020-11-04T04:00:00\", \"OpenSharePrice\": \"$0.44\", \"HighSharePrice\": \"$0.85\", \"LowSharePrice\": \"$0.44\", \"CloseSharePrice\": \"$0.64\", \"TradeVolume\": 125537, \"Candidate\": \"Trump\", \"Win Probability\": 0.64}, {\"ContractName\": \"Biden\", \"Date\": \"2020-11-04T05:00:00\", \"OpenSharePrice\": \"$0.38\", \"HighSharePrice\": \"$0.43\", \"LowSharePrice\": \"$0.34\", \"CloseSharePrice\": \"$0.42\", \"TradeVolume\": 19244, \"Candidate\": \"Biden\", \"Win Probability\": 0.42}, {\"ContractName\": \"Trump\", \"Date\": \"2020-11-04T05:00:00\", \"OpenSharePrice\": \"$0.64\", \"HighSharePrice\": \"$0.69\", \"LowSharePrice\": \"$0.59\", \"CloseSharePrice\": \"$0.59\", \"TradeVolume\": 33828, \"Candidate\": \"Trump\", \"Win Probability\": 0.59}, {\"ContractName\": \"Biden\", \"Date\": \"2020-11-04T06:00:00\", \"OpenSharePrice\": \"$0.42\", \"HighSharePrice\": \"$0.42\", \"LowSharePrice\": \"$0.34\", \"CloseSharePrice\": \"$0.39\", \"TradeVolume\": 9861, \"Candidate\": \"Biden\", \"Win Probability\": 0.39}, {\"ContractName\": \"Trump\", \"Date\": \"2020-11-04T06:00:00\", \"OpenSharePrice\": \"$0.59\", \"HighSharePrice\": \"$0.70\", \"LowSharePrice\": \"$0.58\", \"CloseSharePrice\": \"$0.69\", \"TradeVolume\": 21091, \"Candidate\": \"Trump\", \"Win Probability\": 0.69}, {\"ContractName\": \"Biden\", \"Date\": \"2020-11-04T07:00:00\", \"OpenSharePrice\": \"$0.39\", \"HighSharePrice\": \"$0.56\", \"LowSharePrice\": \"$0.35\", \"CloseSharePrice\": \"$0.51\", \"TradeVolume\": 19472, \"Candidate\": \"Biden\", \"Win Probability\": 0.51}, {\"ContractName\": \"Trump\", \"Date\": \"2020-11-04T07:00:00\", \"OpenSharePrice\": \"$0.69\", \"HighSharePrice\": \"$0.70\", \"LowSharePrice\": \"$0.53\", \"CloseSharePrice\": \"$0.56\", \"TradeVolume\": 18751, \"Candidate\": \"Trump\", \"Win Probability\": 0.56}, {\"ContractName\": \"Biden\", \"Date\": \"2020-11-04T08:00:00\", \"OpenSharePrice\": \"$0.51\", \"HighSharePrice\": \"$0.52\", \"LowSharePrice\": \"$0.34\", \"CloseSharePrice\": \"$0.39\", \"TradeVolume\": 58497, \"Candidate\": \"Biden\", \"Win Probability\": 0.39}, {\"ContractName\": \"Trump\", \"Date\": \"2020-11-04T08:00:00\", \"OpenSharePrice\": \"$0.56\", \"HighSharePrice\": \"$0.74\", \"LowSharePrice\": \"$0.49\", \"CloseSharePrice\": \"$0.63\", \"TradeVolume\": 91038, \"Candidate\": \"Trump\", \"Win Probability\": 0.63}, {\"ContractName\": \"Biden\", \"Date\": \"2020-11-04T09:00:00\", \"OpenSharePrice\": \"$0.39\", \"HighSharePrice\": \"$0.40\", \"LowSharePrice\": \"$0.30\", \"CloseSharePrice\": \"$0.32\", \"TradeVolume\": 40646, \"Candidate\": \"Biden\", \"Win Probability\": 0.32}, {\"ContractName\": \"Trump\", \"Date\": \"2020-11-04T09:00:00\", \"OpenSharePrice\": \"$0.63\", \"HighSharePrice\": \"$0.76\", \"LowSharePrice\": \"$0.63\", \"CloseSharePrice\": \"$0.72\", \"TradeVolume\": 56540, \"Candidate\": \"Trump\", \"Win Probability\": 0.72}, {\"ContractName\": \"Biden\", \"Date\": \"2020-11-04T10:00:00\", \"OpenSharePrice\": \"$0.32\", \"HighSharePrice\": \"$0.32\", \"LowSharePrice\": \"$0.30\", \"CloseSharePrice\": \"$0.30\", \"TradeVolume\": 1, \"Candidate\": \"Biden\", \"Win Probability\": 0.3}, {\"ContractName\": \"Trump\", \"Date\": \"2020-11-04T10:00:00\", \"OpenSharePrice\": \"$0.72\", \"HighSharePrice\": \"$0.76\", \"LowSharePrice\": \"$0.72\", \"CloseSharePrice\": \"$0.72\", \"TradeVolume\": 76, \"Candidate\": \"Trump\", \"Win Probability\": 0.72}, {\"ContractName\": \"Biden\", \"Date\": \"2020-11-04T11:00:00\", \"OpenSharePrice\": \"$0.30\", \"HighSharePrice\": \"$0.72\", \"LowSharePrice\": \"$0.30\", \"CloseSharePrice\": \"$0.63\", \"TradeVolume\": 48696, \"Candidate\": \"Biden\", \"Win Probability\": 0.63}, {\"ContractName\": \"Trump\", \"Date\": \"2020-11-04T11:00:00\", \"OpenSharePrice\": \"$0.72\", \"HighSharePrice\": \"$0.72\", \"LowSharePrice\": \"$0.40\", \"CloseSharePrice\": \"$0.43\", \"TradeVolume\": 53086, \"Candidate\": \"Trump\", \"Win Probability\": 0.43}, {\"ContractName\": \"Biden\", \"Date\": \"2020-11-04T12:00:00\", \"OpenSharePrice\": \"$0.63\", \"HighSharePrice\": \"$0.80\", \"LowSharePrice\": \"$0.55\", \"CloseSharePrice\": \"$0.73\", \"TradeVolume\": 42770, \"Candidate\": \"Biden\", \"Win Probability\": 0.73}, {\"ContractName\": \"Trump\", \"Date\": \"2020-11-04T12:00:00\", \"OpenSharePrice\": \"$0.43\", \"HighSharePrice\": \"$0.46\", \"LowSharePrice\": \"$0.34\", \"CloseSharePrice\": \"$0.36\", \"TradeVolume\": 56321, \"Candidate\": \"Trump\", \"Win Probability\": 0.36}, {\"ContractName\": \"Biden\", \"Date\": \"2020-11-04T13:00:00\", \"OpenSharePrice\": \"$0.73\", \"HighSharePrice\": \"$0.85\", \"LowSharePrice\": \"$0.71\", \"CloseSharePrice\": \"$0.77\", \"TradeVolume\": 53728, \"Candidate\": \"Biden\", \"Win Probability\": 0.77}, {\"ContractName\": \"Trump\", \"Date\": \"2020-11-04T13:00:00\", \"OpenSharePrice\": \"$0.36\", \"HighSharePrice\": \"$0.38\", \"LowSharePrice\": \"$0.19\", \"CloseSharePrice\": \"$0.30\", \"TradeVolume\": 71224, \"Candidate\": \"Trump\", \"Win Probability\": 0.3}, {\"ContractName\": \"Biden\", \"Date\": \"2020-11-04T14:00:00\", \"OpenSharePrice\": \"$0.77\", \"HighSharePrice\": \"$0.82\", \"LowSharePrice\": \"$0.72\", \"CloseSharePrice\": \"$0.77\", \"TradeVolume\": 56105, \"Candidate\": \"Biden\", \"Win Probability\": 0.77}, {\"ContractName\": \"Trump\", \"Date\": \"2020-11-04T14:00:00\", \"OpenSharePrice\": \"$0.30\", \"HighSharePrice\": \"$0.37\", \"LowSharePrice\": \"$0.20\", \"CloseSharePrice\": \"$0.31\", \"TradeVolume\": 53129, \"Candidate\": \"Trump\", \"Win Probability\": 0.31}, {\"ContractName\": \"Biden\", \"Date\": \"2020-11-04T15:00:00\", \"OpenSharePrice\": \"$0.77\", \"HighSharePrice\": \"$0.89\", \"LowSharePrice\": \"$0.76\", \"CloseSharePrice\": \"$0.85\", \"TradeVolume\": 66013, \"Candidate\": \"Biden\", \"Win Probability\": 0.85}, {\"ContractName\": \"Trump\", \"Date\": \"2020-11-04T15:00:00\", \"OpenSharePrice\": \"$0.31\", \"HighSharePrice\": \"$0.33\", \"LowSharePrice\": \"$0.14\", \"CloseSharePrice\": \"$0.19\", \"TradeVolume\": 96955, \"Candidate\": \"Trump\", \"Win Probability\": 0.19}, {\"ContractName\": \"Biden\", \"Date\": \"2020-11-04T16:00:00\", \"OpenSharePrice\": \"$0.85\", \"HighSharePrice\": \"$0.87\", \"LowSharePrice\": \"$0.81\", \"CloseSharePrice\": \"$0.86\", \"TradeVolume\": 43334, \"Candidate\": \"Biden\", \"Win Probability\": 0.86}, {\"ContractName\": \"Trump\", \"Date\": \"2020-11-04T16:00:00\", \"OpenSharePrice\": \"$0.19\", \"HighSharePrice\": \"$0.23\", \"LowSharePrice\": \"$0.13\", \"CloseSharePrice\": \"$0.20\", \"TradeVolume\": 82217, \"Candidate\": \"Trump\", \"Win Probability\": 0.2}, {\"ContractName\": \"Biden\", \"Date\": \"2020-11-04T17:00:00\", \"OpenSharePrice\": \"$0.86\", \"HighSharePrice\": \"$0.87\", \"LowSharePrice\": \"$0.74\", \"CloseSharePrice\": \"$0.82\", \"TradeVolume\": 49003, \"Candidate\": \"Biden\", \"Win Probability\": 0.82}, {\"ContractName\": \"Trump\", \"Date\": \"2020-11-04T17:00:00\", \"OpenSharePrice\": \"$0.20\", \"HighSharePrice\": \"$0.25\", \"LowSharePrice\": \"$0.17\", \"CloseSharePrice\": \"$0.21\", \"TradeVolume\": 51163, \"Candidate\": \"Trump\", \"Win Probability\": 0.21}, {\"ContractName\": \"Biden\", \"Date\": \"2020-11-04T20:00:00\", \"OpenSharePrice\": \"$0.81\", \"HighSharePrice\": \"$0.84\", \"LowSharePrice\": \"$0.78\", \"CloseSharePrice\": \"$0.84\", \"TradeVolume\": 28947, \"Candidate\": \"Biden\", \"Win Probability\": 0.84}, {\"ContractName\": \"Trump\", \"Date\": \"2020-11-04T20:00:00\", \"OpenSharePrice\": \"$0.25\", \"HighSharePrice\": \"$0.28\", \"LowSharePrice\": \"$0.20\", \"CloseSharePrice\": \"$0.20\", \"TradeVolume\": 36674, \"Candidate\": \"Trump\", \"Win Probability\": 0.2}, {\"ContractName\": \"Biden\", \"Date\": \"2020-11-04T21:00:00\", \"OpenSharePrice\": \"$0.84\", \"HighSharePrice\": \"$0.85\", \"LowSharePrice\": \"$0.81\", \"CloseSharePrice\": \"$0.84\", \"TradeVolume\": 25634, \"Candidate\": \"Biden\", \"Win Probability\": 0.84}, {\"ContractName\": \"Trump\", \"Date\": \"2020-11-04T21:00:00\", \"OpenSharePrice\": \"$0.20\", \"HighSharePrice\": \"$0.26\", \"LowSharePrice\": \"$0.18\", \"CloseSharePrice\": \"$0.19\", \"TradeVolume\": 28801, \"Candidate\": \"Trump\", \"Win Probability\": 0.19}, {\"ContractName\": \"Biden\", \"Date\": \"2020-11-04T22:00:00\", \"OpenSharePrice\": \"$0.84\", \"HighSharePrice\": \"$0.85\", \"LowSharePrice\": \"$0.84\", \"CloseSharePrice\": \"$0.85\", \"TradeVolume\": 2247, \"Candidate\": \"Biden\", \"Win Probability\": 0.85}, {\"ContractName\": \"Trump\", \"Date\": \"2020-11-04T22:00:00\", \"OpenSharePrice\": \"$0.19\", \"HighSharePrice\": \"$0.19\", \"LowSharePrice\": \"$0.17\", \"CloseSharePrice\": \"$0.18\", \"TradeVolume\": 4888, \"Candidate\": \"Trump\", \"Win Probability\": 0.18}, {\"ContractName\": \"Biden\", \"Date\": \"2020-11-04T23:00:00\", \"OpenSharePrice\": \"$0.85\", \"HighSharePrice\": \"$0.89\", \"LowSharePrice\": \"$0.84\", \"CloseSharePrice\": \"$0.88\", \"TradeVolume\": 26739, \"Candidate\": \"Biden\", \"Win Probability\": 0.88}, {\"ContractName\": \"Trump\", \"Date\": \"2020-11-04T23:00:00\", \"OpenSharePrice\": \"$0.18\", \"HighSharePrice\": \"$0.18\", \"LowSharePrice\": \"$0.11\", \"CloseSharePrice\": \"$0.13\", \"TradeVolume\": 52111, \"Candidate\": \"Trump\", \"Win Probability\": 0.13}, {\"ContractName\": \"Biden\", \"Date\": \"2020-11-05T00:00:00\", \"OpenSharePrice\": \"$0.88\", \"HighSharePrice\": \"$0.89\", \"LowSharePrice\": \"$0.85\", \"CloseSharePrice\": \"$0.88\", \"TradeVolume\": 28636, \"Candidate\": \"Biden\", \"Win Probability\": 0.88}, {\"ContractName\": \"Trump\", \"Date\": \"2020-11-05T00:00:00\", \"OpenSharePrice\": \"$0.13\", \"HighSharePrice\": \"$0.19\", \"LowSharePrice\": \"$0.11\", \"CloseSharePrice\": \"$0.17\", \"TradeVolume\": 37496, \"Candidate\": \"Trump\", \"Win Probability\": 0.17}, {\"ContractName\": \"Biden\", \"Date\": \"2020-11-05T01:00:00\", \"OpenSharePrice\": \"$0.88\", \"HighSharePrice\": \"$0.90\", \"LowSharePrice\": \"$0.85\", \"CloseSharePrice\": \"$0.87\", \"TradeVolume\": 21072, \"Candidate\": \"Biden\", \"Win Probability\": 0.87}, {\"ContractName\": \"Trump\", \"Date\": \"2020-11-05T01:00:00\", \"OpenSharePrice\": \"$0.17\", \"HighSharePrice\": \"$0.18\", \"LowSharePrice\": \"$0.11\", \"CloseSharePrice\": \"$0.13\", \"TradeVolume\": 23115, \"Candidate\": \"Trump\", \"Win Probability\": 0.13}, {\"ContractName\": \"Biden\", \"Date\": \"2020-11-05T02:00:00\", \"OpenSharePrice\": \"$0.87\", \"HighSharePrice\": \"$0.90\", \"LowSharePrice\": \"$0.85\", \"CloseSharePrice\": \"$0.88\", \"TradeVolume\": 11009, \"Candidate\": \"Biden\", \"Win Probability\": 0.88}, {\"ContractName\": \"Trump\", \"Date\": \"2020-11-05T02:00:00\", \"OpenSharePrice\": \"$0.13\", \"HighSharePrice\": \"$0.20\", \"LowSharePrice\": \"$0.12\", \"CloseSharePrice\": \"$0.14\", \"TradeVolume\": 19450, \"Candidate\": \"Trump\", \"Win Probability\": 0.14}, {\"ContractName\": \"Biden\", \"Date\": \"2020-11-05T03:00:00\", \"OpenSharePrice\": \"$0.88\", \"HighSharePrice\": \"$0.90\", \"LowSharePrice\": \"$0.85\", \"CloseSharePrice\": \"$0.85\", \"TradeVolume\": 21446, \"Candidate\": \"Biden\", \"Win Probability\": 0.85}, {\"ContractName\": \"Trump\", \"Date\": \"2020-11-05T03:00:00\", \"OpenSharePrice\": \"$0.14\", \"HighSharePrice\": \"$0.20\", \"LowSharePrice\": \"$0.12\", \"CloseSharePrice\": \"$0.15\", \"TradeVolume\": 19174, \"Candidate\": \"Trump\", \"Win Probability\": 0.15}, {\"ContractName\": \"Biden\", \"Date\": \"2020-11-05T04:00:00\", \"OpenSharePrice\": \"$0.85\", \"HighSharePrice\": \"$0.88\", \"LowSharePrice\": \"$0.84\", \"CloseSharePrice\": \"$0.85\", \"TradeVolume\": 20791, \"Candidate\": \"Biden\", \"Win Probability\": 0.85}, {\"ContractName\": \"Trump\", \"Date\": \"2020-11-05T04:00:00\", \"OpenSharePrice\": \"$0.15\", \"HighSharePrice\": \"$0.18\", \"LowSharePrice\": \"$0.12\", \"CloseSharePrice\": \"$0.17\", \"TradeVolume\": 16930, \"Candidate\": \"Trump\", \"Win Probability\": 0.17}, {\"ContractName\": \"Biden\", \"Date\": \"2020-11-05T05:00:00\", \"OpenSharePrice\": \"$0.85\", \"HighSharePrice\": \"$0.88\", \"LowSharePrice\": \"$0.85\", \"CloseSharePrice\": \"$0.87\", \"TradeVolume\": 11997, \"Candidate\": \"Biden\", \"Win Probability\": 0.87}, {\"ContractName\": \"Trump\", \"Date\": \"2020-11-05T05:00:00\", \"OpenSharePrice\": \"$0.17\", \"HighSharePrice\": \"$0.22\", \"LowSharePrice\": \"$0.12\", \"CloseSharePrice\": \"$0.19\", \"TradeVolume\": 17264, \"Candidate\": \"Trump\", \"Win Probability\": 0.19}, {\"ContractName\": \"Biden\", \"Date\": \"2020-11-05T06:00:00\", \"OpenSharePrice\": \"$0.87\", \"HighSharePrice\": \"$0.87\", \"LowSharePrice\": \"$0.86\", \"CloseSharePrice\": \"$0.87\", \"TradeVolume\": 6163, \"Candidate\": \"Biden\", \"Win Probability\": 0.87}, {\"ContractName\": \"Trump\", \"Date\": \"2020-11-05T06:00:00\", \"OpenSharePrice\": \"$0.19\", \"HighSharePrice\": \"$0.22\", \"LowSharePrice\": \"$0.14\", \"CloseSharePrice\": \"$0.18\", \"TradeVolume\": 9660, \"Candidate\": \"Trump\", \"Win Probability\": 0.18}, {\"ContractName\": \"Biden\", \"Date\": \"2020-11-05T07:00:00\", \"OpenSharePrice\": \"$0.87\", \"HighSharePrice\": \"$0.87\", \"LowSharePrice\": \"$0.84\", \"CloseSharePrice\": \"$0.84\", \"TradeVolume\": 5518, \"Candidate\": \"Biden\", \"Win Probability\": 0.84}, {\"ContractName\": \"Trump\", \"Date\": \"2020-11-05T07:00:00\", \"OpenSharePrice\": \"$0.18\", \"HighSharePrice\": \"$0.21\", \"LowSharePrice\": \"$0.15\", \"CloseSharePrice\": \"$0.19\", \"TradeVolume\": 6191, \"Candidate\": \"Trump\", \"Win Probability\": 0.19}, {\"ContractName\": \"Biden\", \"Date\": \"2020-11-05T08:00:00\", \"OpenSharePrice\": \"$0.84\", \"HighSharePrice\": \"$0.86\", \"LowSharePrice\": \"$0.84\", \"CloseSharePrice\": \"$0.86\", \"TradeVolume\": 4257, \"Candidate\": \"Biden\", \"Win Probability\": 0.86}, {\"ContractName\": \"Trump\", \"Date\": \"2020-11-05T08:00:00\", \"OpenSharePrice\": \"$0.19\", \"HighSharePrice\": \"$0.24\", \"LowSharePrice\": \"$0.17\", \"CloseSharePrice\": \"$0.20\", \"TradeVolume\": 5546, \"Candidate\": \"Trump\", \"Win Probability\": 0.2}, {\"ContractName\": \"Biden\", \"Date\": \"2020-11-05T09:00:00\", \"OpenSharePrice\": \"$0.86\", \"HighSharePrice\": \"$0.87\", \"LowSharePrice\": \"$0.85\", \"CloseSharePrice\": \"$0.86\", \"TradeVolume\": 2985, \"Candidate\": \"Biden\", \"Win Probability\": 0.86}, {\"ContractName\": \"Trump\", \"Date\": \"2020-11-05T09:00:00\", \"OpenSharePrice\": \"$0.20\", \"HighSharePrice\": \"$0.23\", \"LowSharePrice\": \"$0.16\", \"CloseSharePrice\": \"$0.20\", \"TradeVolume\": 3176, \"Candidate\": \"Trump\", \"Win Probability\": 0.2}, {\"ContractName\": \"Biden\", \"Date\": \"2020-11-05T10:00:00\", \"OpenSharePrice\": \"$0.86\", \"HighSharePrice\": \"$0.86\", \"LowSharePrice\": \"$0.86\", \"CloseSharePrice\": \"$0.86\", \"TradeVolume\": 0, \"Candidate\": \"Biden\", \"Win Probability\": 0.86}, {\"ContractName\": \"Trump\", \"Date\": \"2020-11-05T10:00:00\", \"OpenSharePrice\": \"$0.20\", \"HighSharePrice\": \"$0.20\", \"LowSharePrice\": \"$0.20\", \"CloseSharePrice\": \"$0.20\", \"TradeVolume\": 0, \"Candidate\": \"Trump\", \"Win Probability\": 0.2}, {\"ContractName\": \"Biden\", \"Date\": \"2020-11-05T11:00:00\", \"OpenSharePrice\": \"$0.86\", \"HighSharePrice\": \"$0.87\", \"LowSharePrice\": \"$0.84\", \"CloseSharePrice\": \"$0.84\", \"TradeVolume\": 2967, \"Candidate\": \"Biden\", \"Win Probability\": 0.84}, {\"ContractName\": \"Trump\", \"Date\": \"2020-11-05T11:00:00\", \"OpenSharePrice\": \"$0.20\", \"HighSharePrice\": \"$0.21\", \"LowSharePrice\": \"$0.15\", \"CloseSharePrice\": \"$0.19\", \"TradeVolume\": 2740, \"Candidate\": \"Trump\", \"Win Probability\": 0.19}, {\"ContractName\": \"Biden\", \"Date\": \"2020-11-05T12:00:00\", \"OpenSharePrice\": \"$0.84\", \"HighSharePrice\": \"$0.86\", \"LowSharePrice\": \"$0.83\", \"CloseSharePrice\": \"$0.84\", \"TradeVolume\": 1171, \"Candidate\": \"Biden\", \"Win Probability\": 0.84}, {\"ContractName\": \"Trump\", \"Date\": \"2020-11-05T12:00:00\", \"OpenSharePrice\": \"$0.19\", \"HighSharePrice\": \"$0.22\", \"LowSharePrice\": \"$0.19\", \"CloseSharePrice\": \"$0.20\", \"TradeVolume\": 2995, \"Candidate\": \"Trump\", \"Win Probability\": 0.2}, {\"ContractName\": \"Biden\", \"Date\": \"2020-11-05T13:00:00\", \"OpenSharePrice\": \"$0.84\", \"HighSharePrice\": \"$0.87\", \"LowSharePrice\": \"$0.83\", \"CloseSharePrice\": \"$0.87\", \"TradeVolume\": 5973, \"Candidate\": \"Biden\", \"Win Probability\": 0.87}, {\"ContractName\": \"Trump\", \"Date\": \"2020-11-05T13:00:00\", \"OpenSharePrice\": \"$0.20\", \"HighSharePrice\": \"$0.22\", \"LowSharePrice\": \"$0.17\", \"CloseSharePrice\": \"$0.20\", \"TradeVolume\": 3492, \"Candidate\": \"Trump\", \"Win Probability\": 0.2}, {\"ContractName\": \"Biden\", \"Date\": \"2020-11-05T14:00:00\", \"OpenSharePrice\": \"$0.87\", \"HighSharePrice\": \"$0.87\", \"LowSharePrice\": \"$0.82\", \"CloseSharePrice\": \"$0.82\", \"TradeVolume\": 6727, \"Candidate\": \"Biden\", \"Win Probability\": 0.82}, {\"ContractName\": \"Trump\", \"Date\": \"2020-11-05T14:00:00\", \"OpenSharePrice\": \"$0.20\", \"HighSharePrice\": \"$0.25\", \"LowSharePrice\": \"$0.15\", \"CloseSharePrice\": \"$0.25\", \"TradeVolume\": 5812, \"Candidate\": \"Trump\", \"Win Probability\": 0.25}, {\"ContractName\": \"Biden\", \"Date\": \"2020-11-05T15:00:00\", \"OpenSharePrice\": \"$0.82\", \"HighSharePrice\": \"$0.87\", \"LowSharePrice\": \"$0.82\", \"CloseSharePrice\": \"$0.86\", \"TradeVolume\": 14080, \"Candidate\": \"Biden\", \"Win Probability\": 0.86}, {\"ContractName\": \"Trump\", \"Date\": \"2020-11-05T15:00:00\", \"OpenSharePrice\": \"$0.25\", \"HighSharePrice\": \"$0.25\", \"LowSharePrice\": \"$0.14\", \"CloseSharePrice\": \"$0.16\", \"TradeVolume\": 7454, \"Candidate\": \"Trump\", \"Win Probability\": 0.16}, {\"ContractName\": \"Biden\", \"Date\": \"2020-11-05T16:00:00\", \"OpenSharePrice\": \"$0.86\", \"HighSharePrice\": \"$0.87\", \"LowSharePrice\": \"$0.82\", \"CloseSharePrice\": \"$0.85\", \"TradeVolume\": 14230, \"Candidate\": \"Biden\", \"Win Probability\": 0.85}, {\"ContractName\": \"Trump\", \"Date\": \"2020-11-05T16:00:00\", \"OpenSharePrice\": \"$0.16\", \"HighSharePrice\": \"$0.20\", \"LowSharePrice\": \"$0.12\", \"CloseSharePrice\": \"$0.20\", \"TradeVolume\": 10597, \"Candidate\": \"Trump\", \"Win Probability\": 0.2}, {\"ContractName\": \"Biden\", \"Date\": \"2020-11-05T17:00:00\", \"OpenSharePrice\": \"$0.85\", \"HighSharePrice\": \"$0.87\", \"LowSharePrice\": \"$0.79\", \"CloseSharePrice\": \"$0.86\", \"TradeVolume\": 7189, \"Candidate\": \"Biden\", \"Win Probability\": 0.86}, {\"ContractName\": \"Trump\", \"Date\": \"2020-11-05T17:00:00\", \"OpenSharePrice\": \"$0.20\", \"HighSharePrice\": \"$0.21\", \"LowSharePrice\": \"$0.15\", \"CloseSharePrice\": \"$0.19\", \"TradeVolume\": 12318, \"Candidate\": \"Trump\", \"Win Probability\": 0.19}, {\"ContractName\": \"Biden\", \"Date\": \"2020-11-05T18:00:00\", \"OpenSharePrice\": \"$0.86\", \"HighSharePrice\": \"$0.88\", \"LowSharePrice\": \"$0.82\", \"CloseSharePrice\": \"$0.88\", \"TradeVolume\": 15737, \"Candidate\": \"Biden\", \"Win Probability\": 0.88}, {\"ContractName\": \"Trump\", \"Date\": \"2020-11-05T18:00:00\", \"OpenSharePrice\": \"$0.19\", \"HighSharePrice\": \"$0.20\", \"LowSharePrice\": \"$0.15\", \"CloseSharePrice\": \"$0.16\", \"TradeVolume\": 6590, \"Candidate\": \"Trump\", \"Win Probability\": 0.16}, {\"ContractName\": \"Biden\", \"Date\": \"2020-11-05T19:00:00\", \"OpenSharePrice\": \"$0.88\", \"HighSharePrice\": \"$0.89\", \"LowSharePrice\": \"$0.86\", \"CloseSharePrice\": \"$0.89\", \"TradeVolume\": 7332, \"Candidate\": \"Biden\", \"Win Probability\": 0.89}, {\"ContractName\": \"Trump\", \"Date\": \"2020-11-05T19:00:00\", \"OpenSharePrice\": \"$0.16\", \"HighSharePrice\": \"$0.17\", \"LowSharePrice\": \"$0.12\", \"CloseSharePrice\": \"$0.16\", \"TradeVolume\": 13163, \"Candidate\": \"Trump\", \"Win Probability\": 0.16}]}}, {\"mode\": \"vega-lite\"});\n",
              "</script>"
            ]
          },
          "metadata": {
            "tags": []
          },
          "execution_count": 19
        }
      ]
    },
    {
      "cell_type": "markdown",
      "metadata": {
        "id": "sBZBPPla1fEf"
      },
      "source": [
        "Trump's odds surged immediately from 44% to 64% and got as high as 72%. Then, as it became increasingly clear that Biden would win Michigan and Wisconsin Trump's odds plummeted into the 20% range. \n",
        "\n",
        "So throughout the campaign, the market stubbornly refused to budge in reaction to the passage of time, but when a surprising event occured the market *wildly* overreacted, causing a massive swing in prices that sustained for several hours before correcting. \n",
        "\n",
        "More wild than that though, is that as of this writing the market has a Biden win at 88%, almost 2 weeks after the race was called! \n",
        "\n",
        "PredictIt does have some [structural barriers](https://www.lesswrong.com/posts/c3iQryHA4tnAvPZEv/limits-of-current-us-prediction-markets-predictit-case-study) to translating prices precisely into probabilities, but these issues should show up in expanded bid/ask spreads. They shouldn't be enough to prevent the market from updating *at all* on the race being called for Biden by every major media source. \n",
        "\n",
        "Based on these patterns it seems reasonable to conclude:\n",
        "1. PredictIt markets react strongly (sometimes too strongly) to unexpected events, but don't price in the reduction of uncertainty that occurs over time.\n",
        "2. There's a certain amount of \"nonreactive\" money in the system, probably due to partisan bias, that can prevent a functionally certain event from reaching a reasonable price. This is probably exacerbated by PredictIt limiting the number of users who can participate on each contract and limiting how much they can bet, if enough partisans get in early, there's no way for smart people or smart money to come along later and correct their errors. "
      ]
    }
  ]
}