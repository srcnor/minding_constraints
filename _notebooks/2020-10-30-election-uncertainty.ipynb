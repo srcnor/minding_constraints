{
  "nbformat": 4,
  "nbformat_minor": 0,
  "metadata": {
    "colab": {
      "name": "Evolving Election Uncertainty",
      "provenance": [],
      "collapsed_sections": []
    },
    "kernelspec": {
      "name": "python3",
      "display_name": "Python 3"
    }
  },
  "cells": [
    {
      "cell_type": "markdown",
      "metadata": {
        "id": "9ltuueiqNKN4"
      },
      "source": [
        "# Evolving Election Uncertainty"
      ]
    },
    {
      "cell_type": "code",
      "metadata": {
        "id": "OdhzjziGvgRT"
      },
      "source": [
        "#hide\n",
        "import pandas as pd \n",
        "import numpy as np\n",
        "import altair as alt\n",
        "import datetime as dt\n",
        "alt.themes.enable('fivethirtyeight')\n",
        "pd.options.mode.chained_assignment = None"
      ],
      "execution_count": null,
      "outputs": []
    },
    {
      "cell_type": "code",
      "metadata": {
        "id": "EN4mnXMnvt4w"
      },
      "source": [
        "#hide\n",
        "# Function for pulling historical data \n",
        "def data(market):\n",
        "    #24h,7d,30d, 90d,\n",
        "    time = '90d'\n",
        "    url = 'https://www.predictit.org/Resource/DownloadMarketChartData?marketid='+str(market)+'&timespan='+str(time)\n",
        "    df = pd.read_csv(url)\n",
        "    return df"
      ],
      "execution_count": null,
      "outputs": []
    },
    {
      "cell_type": "markdown",
      "metadata": {
        "id": "huKzLFCc3qr2"
      },
      "source": [
        "What are the odds that the Democratic nominee for president will win the 2032 election? If you had to guess now, you'd probably say 50-50. The US has a very stable two party system, presidential elections are generally competitive and of the past 10 elections, the Democrat was won 4. \n",
        "\n",
        "Now what are the odds that the Democratic nominee for president will win the 2020 election? In this case we have a lot more data to go on. Joe Biden has a significant lead in the polls. Donald Trump has a significant advantage due to the mechanics of the Electoral College, but most observers agree that Biden should be favored to win. A week before the election, FiveThirtyEight has Joe Biden with an 88% chance of victory, the Economist says 96%, and the betting market PredictIt says 63%. The odds differ, but all agree that a Biden win is more probable than a Trump victory. \n",
        "\n",
        "This makes intunitive sense. Probability estimates of an event can become more certain as time goes on, because there is less intervening time for events to occur that may affect the predicted event. Think of the win probability of a football game. Generally a team with a 7 point lead is more likely to win, but their chances are much higher if they hold that lead with one minute left than if they go into halftime up a touchdown. More time on the clock means more uncertainty, all else equal. \n",
        "\n",
        "You can see this principle quite clearly in the output of the FiveThirtyEight model. While Biden's [polling lead](https://projects.fivethirtyeight.com/polls/president-general/national/) has been fairly stable throughout the campaign there has been a steady (though not uninterrupted) increase in his odds of victory from late August onwards. \n"
      ]
    },
    {
      "cell_type": "code",
      "metadata": {
        "id": "-9dXY6s20Xu6"
      },
      "source": [
        "#hide_input\n",
        "fte_pres_winner = pd.read_csv(\"https://projects.fivethirtyeight.com/2020-general-data/presidential_national_toplines_2020.csv\")\n",
        "fte_pres_winner['Date']= pd.to_datetime(fte_pres_winner['timestamp'])\n",
        "\n",
        "fte_pres_winner['Biden'] = fte_pres_winner.ecwin_chal\n",
        "fte_pres_winner['Trump'] = fte_pres_winner.ecwin_inc\n",
        "fte_pres_winner = fte_pres_winner[[\"Date\", \"Trump\", \"Biden\"]]\n",
        "\n",
        "fte_pres_winner = pd.melt(fte_pres_winner, id_vars = \"Date\", value_vars=[\"Trump\", \"Biden\"], \n",
        "                          var_name='Candidate', value_name='Win Probability')\n",
        "\n",
        "fte_pres_winner = fte_pres_winner[fte_pres_winner['Date'] > pd.to_datetime('2020-08-11')]\n",
        "\n"
      ],
      "execution_count": null,
      "outputs": []
    },
    {
      "cell_type": "code",
      "metadata": {
        "id": "RZ234MNYyGDR",
        "outputId": "93aa9cbb-8cce-4259-c1af-9a7e86e6fc6b",
        "colab": {
          "base_uri": "https://localhost:8080/",
          "height": 428
        }
      },
      "source": [
        "#hide_input\n",
        "alt.Chart(fte_pres_winner).mark_line().encode(\n",
        "    x='Date',\n",
        "    y=alt.Y('Win Probability',\n",
        "        scale=alt.Scale(domain=[0,1])\n",
        "    ),\n",
        "    color='Candidate',\n",
        "    tooltip=['Date', \"Candidate\", \"Win Probability\"], \n",
        ").properties(\n",
        "    title = \"FiveThirtyEight Presidential Probabilites\"\n",
        ")"
      ],
      "execution_count": null,
      "outputs": [
        {
          "output_type": "execute_result",
          "data": {
            "text/plain": [
              "alt.Chart(...)"
            ],
            "text/html": [
              "\n",
              "<div id=\"altair-viz-a7a5ce47c3214a1ab1fab033d173d84e\"></div>\n",
              "<script type=\"text/javascript\">\n",
              "  (function(spec, embedOpt){\n",
              "    let outputDiv = document.currentScript.previousElementSibling;\n",
              "    if (outputDiv.id !== \"altair-viz-a7a5ce47c3214a1ab1fab033d173d84e\") {\n",
              "      outputDiv = document.getElementById(\"altair-viz-a7a5ce47c3214a1ab1fab033d173d84e\");\n",
              "    }\n",
              "    const paths = {\n",
              "      \"vega\": \"https://cdn.jsdelivr.net/npm//vega@5?noext\",\n",
              "      \"vega-lib\": \"https://cdn.jsdelivr.net/npm//vega-lib?noext\",\n",
              "      \"vega-lite\": \"https://cdn.jsdelivr.net/npm//vega-lite@4.8.1?noext\",\n",
              "      \"vega-embed\": \"https://cdn.jsdelivr.net/npm//vega-embed@6?noext\",\n",
              "    };\n",
              "\n",
              "    function loadScript(lib) {\n",
              "      return new Promise(function(resolve, reject) {\n",
              "        var s = document.createElement('script');\n",
              "        s.src = paths[lib];\n",
              "        s.async = true;\n",
              "        s.onload = () => resolve(paths[lib]);\n",
              "        s.onerror = () => reject(`Error loading script: ${paths[lib]}`);\n",
              "        document.getElementsByTagName(\"head\")[0].appendChild(s);\n",
              "      });\n",
              "    }\n",
              "\n",
              "    function showError(err) {\n",
              "      outputDiv.innerHTML = `<div class=\"error\" style=\"color:red;\">${err}</div>`;\n",
              "      throw err;\n",
              "    }\n",
              "\n",
              "    function displayChart(vegaEmbed) {\n",
              "      vegaEmbed(outputDiv, spec, embedOpt)\n",
              "        .catch(err => showError(`Javascript Error: ${err.message}<br>This usually means there's a typo in your chart specification. See the javascript console for the full traceback.`));\n",
              "    }\n",
              "\n",
              "    if(typeof define === \"function\" && define.amd) {\n",
              "      requirejs.config({paths});\n",
              "      require([\"vega-embed\"], displayChart, err => showError(`Error loading script: ${err.message}`));\n",
              "    } else if (typeof vegaEmbed === \"function\") {\n",
              "      displayChart(vegaEmbed);\n",
              "    } else {\n",
              "      loadScript(\"vega\")\n",
              "        .then(() => loadScript(\"vega-lite\"))\n",
              "        .then(() => loadScript(\"vega-embed\"))\n",
              "        .catch(showError)\n",
              "        .then(() => displayChart(vegaEmbed));\n",
              "    }\n",
              "  })({\"usermeta\": {\"embedOptions\": {\"theme\": \"fivethirtyeight\"}}, \"config\": {\"view\": {\"continuousWidth\": 400, \"continuousHeight\": 300}}, \"data\": {\"name\": \"data-3b4050e9d04c76cfca150f3bcb5a6f70\"}, \"mark\": \"line\", \"encoding\": {\"color\": {\"type\": \"nominal\", \"field\": \"Candidate\"}, \"tooltip\": [{\"type\": \"temporal\", \"field\": \"Date\"}, {\"type\": \"nominal\", \"field\": \"Candidate\"}, {\"type\": \"quantitative\", \"field\": \"Win Probability\"}], \"x\": {\"type\": \"temporal\", \"field\": \"Date\"}, \"y\": {\"type\": \"quantitative\", \"field\": \"Win Probability\", \"scale\": {\"domain\": [0, 1]}}}, \"title\": \"FiveThirtyEight Presidential Probabilites\", \"$schema\": \"https://vega.github.io/schema/vega-lite/v4.8.1.json\", \"datasets\": {\"data-3b4050e9d04c76cfca150f3bcb5a6f70\": [{\"Date\": \"2020-10-28T21:36:04\", \"Candidate\": \"Trump\", \"Win Probability\": 0.112575}, {\"Date\": \"2020-10-27T21:01:03\", \"Candidate\": \"Trump\", \"Win Probability\": 0.1189}, {\"Date\": \"2020-10-26T20:38:03\", \"Candidate\": \"Trump\", \"Win Probability\": 0.12355}, {\"Date\": \"2020-10-25T20:47:03\", \"Candidate\": \"Trump\", \"Win Probability\": 0.123075}, {\"Date\": \"2020-10-24T22:24:03\", \"Candidate\": \"Trump\", \"Win Probability\": 0.1296}, {\"Date\": \"2020-10-23T22:19:03\", \"Candidate\": \"Trump\", \"Win Probability\": 0.1251}, {\"Date\": \"2020-10-22T19:00:04\", \"Candidate\": \"Trump\", \"Win Probability\": 0.1219}, {\"Date\": \"2020-10-21T20:34:25\", \"Candidate\": \"Trump\", \"Win Probability\": 0.127775}, {\"Date\": \"2020-10-20T21:36:03\", \"Candidate\": \"Trump\", \"Win Probability\": 0.12485}, {\"Date\": \"2020-10-19T21:55:04\", \"Candidate\": \"Trump\", \"Win Probability\": 0.120425}, {\"Date\": \"2020-10-18T21:11:03\", \"Candidate\": \"Trump\", \"Win Probability\": 0.121775}, {\"Date\": \"2020-10-17T19:17:03\", \"Candidate\": \"Trump\", \"Win Probability\": 0.12235}, {\"Date\": \"2020-10-16T21:08:11\", \"Candidate\": \"Trump\", \"Win Probability\": 0.129225}, {\"Date\": \"2020-10-15T20:38:03\", \"Candidate\": \"Trump\", \"Win Probability\": 0.1295}, {\"Date\": \"2020-10-14T21:42:04\", \"Candidate\": \"Trump\", \"Win Probability\": 0.130775}, {\"Date\": \"2020-10-13T23:16:03\", \"Candidate\": \"Trump\", \"Win Probability\": 0.129775}, {\"Date\": \"2020-10-12T21:07:03\", \"Candidate\": \"Trump\", \"Win Probability\": 0.134325}, {\"Date\": \"2020-10-11T19:00:04\", \"Candidate\": \"Trump\", \"Win Probability\": 0.137725}, {\"Date\": \"2020-10-10T19:00:03\", \"Candidate\": \"Trump\", \"Win Probability\": 0.144425}, {\"Date\": \"2020-10-09T19:46:04\", \"Candidate\": \"Trump\", \"Win Probability\": 0.147025}, {\"Date\": \"2020-10-08T21:25:03\", \"Candidate\": \"Trump\", \"Win Probability\": 0.151625}, {\"Date\": \"2020-10-07T20:48:03\", \"Candidate\": \"Trump\", \"Win Probability\": 0.15645}, {\"Date\": \"2020-10-06T22:00:03\", \"Candidate\": \"Trump\", \"Win Probability\": 0.17175}, {\"Date\": \"2020-10-05T23:45:04\", \"Candidate\": \"Trump\", \"Win Probability\": 0.180725}, {\"Date\": \"2020-10-04T20:24:03\", \"Candidate\": \"Trump\", \"Win Probability\": 0.18655}, {\"Date\": \"2020-10-03T20:48:03\", \"Candidate\": \"Trump\", \"Win Probability\": 0.19425}, {\"Date\": \"2020-10-02T22:26:02\", \"Candidate\": \"Trump\", \"Win Probability\": 0.201875}, {\"Date\": \"2020-10-01T21:27:02\", \"Candidate\": \"Trump\", \"Win Probability\": 0.196175}, {\"Date\": \"2020-09-30T20:24:04\", \"Candidate\": \"Trump\", \"Win Probability\": 0.213425}, {\"Date\": \"2020-09-29T20:44:03\", \"Candidate\": \"Trump\", \"Win Probability\": 0.216025}, {\"Date\": \"2020-09-28T22:13:03\", \"Candidate\": \"Trump\", \"Win Probability\": 0.2196}, {\"Date\": \"2020-09-27T20:00:04\", \"Candidate\": \"Trump\", \"Win Probability\": 0.2197}, {\"Date\": \"2020-09-26T19:00:04\", \"Candidate\": \"Trump\", \"Win Probability\": 0.225325}, {\"Date\": \"2020-09-25T22:17:03\", \"Candidate\": \"Trump\", \"Win Probability\": 0.2281}, {\"Date\": \"2020-09-24T19:10:02\", \"Candidate\": \"Trump\", \"Win Probability\": 0.229275}, {\"Date\": \"2020-09-23T20:53:03\", \"Candidate\": \"Trump\", \"Win Probability\": 0.22235}, {\"Date\": \"2020-09-22T19:00:04\", \"Candidate\": \"Trump\", \"Win Probability\": 0.226}, {\"Date\": \"2020-09-21T19:00:04\", \"Candidate\": \"Trump\", \"Win Probability\": 0.22535}, {\"Date\": \"2020-09-20T22:02:03\", \"Candidate\": \"Trump\", \"Win Probability\": 0.225775}, {\"Date\": \"2020-09-19T19:00:04\", \"Candidate\": \"Trump\", \"Win Probability\": 0.223425}, {\"Date\": \"2020-09-18T19:20:04\", \"Candidate\": \"Trump\", \"Win Probability\": 0.22725}, {\"Date\": \"2020-09-17T19:00:03\", \"Candidate\": \"Trump\", \"Win Probability\": 0.2368}, {\"Date\": \"2020-09-16T23:12:03\", \"Candidate\": \"Trump\", \"Win Probability\": 0.233525}, {\"Date\": \"2020-09-15T23:33:03\", \"Candidate\": \"Trump\", \"Win Probability\": 0.23765}, {\"Date\": \"2020-09-14T23:33:03\", \"Candidate\": \"Trump\", \"Win Probability\": 0.239225}, {\"Date\": \"2020-09-13T19:00:03\", \"Candidate\": \"Trump\", \"Win Probability\": 0.24095}, {\"Date\": \"2020-09-12T19:00:04\", \"Candidate\": \"Trump\", \"Win Probability\": 0.24515}, {\"Date\": \"2020-09-11T19:00:03\", \"Candidate\": \"Trump\", \"Win Probability\": 0.2405}, {\"Date\": \"2020-09-10T21:47:02\", \"Candidate\": \"Trump\", \"Win Probability\": 0.248775}, {\"Date\": \"2020-09-09T23:52:03\", \"Candidate\": \"Trump\", \"Win Probability\": 0.253625}, {\"Date\": \"2020-09-08T22:02:02\", \"Candidate\": \"Trump\", \"Win Probability\": 0.282475}, {\"Date\": \"2020-09-07T21:01:02\", \"Candidate\": \"Trump\", \"Win Probability\": 0.284875}, {\"Date\": \"2020-09-06T21:06:02\", \"Candidate\": \"Trump\", \"Win Probability\": 0.2859}, {\"Date\": \"2020-09-05T22:17:02\", \"Candidate\": \"Trump\", \"Win Probability\": 0.29205}, {\"Date\": \"2020-09-04T22:34:02\", \"Candidate\": \"Trump\", \"Win Probability\": 0.286825}, {\"Date\": \"2020-09-03T21:55:03\", \"Candidate\": \"Trump\", \"Win Probability\": 0.293225}, {\"Date\": \"2020-09-02T21:52:26\", \"Candidate\": \"Trump\", \"Win Probability\": 0.2919}, {\"Date\": \"2020-09-01T19:06:02\", \"Candidate\": \"Trump\", \"Win Probability\": 0.30725}, {\"Date\": \"2020-08-31T19:00:04\", \"Candidate\": \"Trump\", \"Win Probability\": 0.321275}, {\"Date\": \"2020-08-30T20:23:02\", \"Candidate\": \"Trump\", \"Win Probability\": 0.3094}, {\"Date\": \"2020-08-29T19:00:02\", \"Candidate\": \"Trump\", \"Win Probability\": 0.307525}, {\"Date\": \"2020-08-28T19:00:03\", \"Candidate\": \"Trump\", \"Win Probability\": 0.3035}, {\"Date\": \"2020-08-27T19:00:04\", \"Candidate\": \"Trump\", \"Win Probability\": 0.2994}, {\"Date\": \"2020-08-26T19:01:03\", \"Candidate\": \"Trump\", \"Win Probability\": 0.30055}, {\"Date\": \"2020-08-25T23:50:03\", \"Candidate\": \"Trump\", \"Win Probability\": 0.27045}, {\"Date\": \"2020-08-24T20:38:02\", \"Candidate\": \"Trump\", \"Win Probability\": 0.269575}, {\"Date\": \"2020-08-23T19:00:03\", \"Candidate\": \"Trump\", \"Win Probability\": 0.2673}, {\"Date\": \"2020-08-22T19:00:03\", \"Candidate\": \"Trump\", \"Win Probability\": 0.271}, {\"Date\": \"2020-08-21T19:26:02\", \"Candidate\": \"Trump\", \"Win Probability\": 0.267575}, {\"Date\": \"2020-08-20T19:00:04\", \"Candidate\": \"Trump\", \"Win Probability\": 0.27365}, {\"Date\": \"2020-08-19T23:52:08\", \"Candidate\": \"Trump\", \"Win Probability\": 0.278625}, {\"Date\": \"2020-08-18T19:23:03\", \"Candidate\": \"Trump\", \"Win Probability\": 0.26775}, {\"Date\": \"2020-08-17T22:43:02\", \"Candidate\": \"Trump\", \"Win Probability\": 0.2724}, {\"Date\": \"2020-08-16T20:17:02\", \"Candidate\": \"Trump\", \"Win Probability\": 0.282075}, {\"Date\": \"2020-08-15T19:00:05\", \"Candidate\": \"Trump\", \"Win Probability\": 0.27745}, {\"Date\": \"2020-08-14T19:00:02\", \"Candidate\": \"Trump\", \"Win Probability\": 0.267475}, {\"Date\": \"2020-08-13T21:50:04\", \"Candidate\": \"Trump\", \"Win Probability\": 0.2752}, {\"Date\": \"2020-08-12T23:41:03\", \"Candidate\": \"Trump\", \"Win Probability\": 0.28765}, {\"Date\": \"2020-08-11T19:08:03\", \"Candidate\": \"Trump\", \"Win Probability\": 0.2866}, {\"Date\": \"2020-10-28T21:36:04\", \"Candidate\": \"Biden\", \"Win Probability\": 0.88265}, {\"Date\": \"2020-10-27T21:01:03\", \"Candidate\": \"Biden\", \"Win Probability\": 0.875525}, {\"Date\": \"2020-10-26T20:38:03\", \"Candidate\": \"Biden\", \"Win Probability\": 0.870825}, {\"Date\": \"2020-10-25T20:47:03\", \"Candidate\": \"Biden\", \"Win Probability\": 0.871125}, {\"Date\": \"2020-10-24T22:24:03\", \"Candidate\": \"Biden\", \"Win Probability\": 0.864925}, {\"Date\": \"2020-10-23T22:19:03\", \"Candidate\": \"Biden\", \"Win Probability\": 0.8688}, {\"Date\": \"2020-10-22T19:00:04\", \"Candidate\": \"Biden\", \"Win Probability\": 0.872325}, {\"Date\": \"2020-10-21T20:34:25\", \"Candidate\": \"Biden\", \"Win Probability\": 0.8666}, {\"Date\": \"2020-10-20T21:36:03\", \"Candidate\": \"Biden\", \"Win Probability\": 0.870675}, {\"Date\": \"2020-10-19T21:55:04\", \"Candidate\": \"Biden\", \"Win Probability\": 0.875}, {\"Date\": \"2020-10-18T21:11:03\", \"Candidate\": \"Biden\", \"Win Probability\": 0.87355}, {\"Date\": \"2020-10-17T19:17:03\", \"Candidate\": \"Biden\", \"Win Probability\": 0.87365}, {\"Date\": \"2020-10-16T21:08:11\", \"Candidate\": \"Biden\", \"Win Probability\": 0.8677}, {\"Date\": \"2020-10-15T20:38:03\", \"Candidate\": \"Biden\", \"Win Probability\": 0.867025}, {\"Date\": \"2020-10-14T21:42:04\", \"Candidate\": \"Biden\", \"Win Probability\": 0.8657}, {\"Date\": \"2020-10-13T23:16:03\", \"Candidate\": \"Biden\", \"Win Probability\": 0.866625}, {\"Date\": \"2020-10-12T21:07:03\", \"Candidate\": \"Biden\", \"Win Probability\": 0.8621}, {\"Date\": \"2020-10-11T19:00:04\", \"Candidate\": \"Biden\", \"Win Probability\": 0.85825}, {\"Date\": \"2020-10-10T19:00:03\", \"Candidate\": \"Biden\", \"Win Probability\": 0.851475}, {\"Date\": \"2020-10-09T19:46:04\", \"Candidate\": \"Biden\", \"Win Probability\": 0.84845}, {\"Date\": \"2020-10-08T21:25:03\", \"Candidate\": \"Biden\", \"Win Probability\": 0.843975}, {\"Date\": \"2020-10-07T20:48:03\", \"Candidate\": \"Biden\", \"Win Probability\": 0.83955}, {\"Date\": \"2020-10-06T22:00:03\", \"Candidate\": \"Biden\", \"Win Probability\": 0.82345}, {\"Date\": \"2020-10-05T23:45:04\", \"Candidate\": \"Biden\", \"Win Probability\": 0.814125}, {\"Date\": \"2020-10-04T20:24:03\", \"Candidate\": \"Biden\", \"Win Probability\": 0.80915}, {\"Date\": \"2020-10-03T20:48:03\", \"Candidate\": \"Biden\", \"Win Probability\": 0.801225}, {\"Date\": \"2020-10-02T22:26:02\", \"Candidate\": \"Biden\", \"Win Probability\": 0.79335}, {\"Date\": \"2020-10-01T21:27:02\", \"Candidate\": \"Biden\", \"Win Probability\": 0.799275}, {\"Date\": \"2020-09-30T20:24:04\", \"Candidate\": \"Biden\", \"Win Probability\": 0.78185}, {\"Date\": \"2020-09-29T20:44:03\", \"Candidate\": \"Biden\", \"Win Probability\": 0.77935}, {\"Date\": \"2020-09-28T22:13:03\", \"Candidate\": \"Biden\", \"Win Probability\": 0.775725}, {\"Date\": \"2020-09-27T20:00:04\", \"Candidate\": \"Biden\", \"Win Probability\": 0.7756}, {\"Date\": \"2020-09-26T19:00:04\", \"Candidate\": \"Biden\", \"Win Probability\": 0.769675}, {\"Date\": \"2020-09-25T22:17:03\", \"Candidate\": \"Biden\", \"Win Probability\": 0.76685}, {\"Date\": \"2020-09-24T19:10:02\", \"Candidate\": \"Biden\", \"Win Probability\": 0.766175}, {\"Date\": \"2020-09-23T20:53:03\", \"Candidate\": \"Biden\", \"Win Probability\": 0.772925}, {\"Date\": \"2020-09-22T19:00:04\", \"Candidate\": \"Biden\", \"Win Probability\": 0.7686}, {\"Date\": \"2020-09-21T19:00:04\", \"Candidate\": \"Biden\", \"Win Probability\": 0.769225}, {\"Date\": \"2020-09-20T22:02:03\", \"Candidate\": \"Biden\", \"Win Probability\": 0.76835}, {\"Date\": \"2020-09-19T19:00:04\", \"Candidate\": \"Biden\", \"Win Probability\": 0.771425}, {\"Date\": \"2020-09-18T19:20:04\", \"Candidate\": \"Biden\", \"Win Probability\": 0.768}, {\"Date\": \"2020-09-17T19:00:03\", \"Candidate\": \"Biden\", \"Win Probability\": 0.7579}, {\"Date\": \"2020-09-16T23:12:03\", \"Candidate\": \"Biden\", \"Win Probability\": 0.760775}, {\"Date\": \"2020-09-15T23:33:03\", \"Candidate\": \"Biden\", \"Win Probability\": 0.757575}, {\"Date\": \"2020-09-14T23:33:03\", \"Candidate\": \"Biden\", \"Win Probability\": 0.755925}, {\"Date\": \"2020-09-13T19:00:03\", \"Candidate\": \"Biden\", \"Win Probability\": 0.754475}, {\"Date\": \"2020-09-12T19:00:04\", \"Candidate\": \"Biden\", \"Win Probability\": 0.749775}, {\"Date\": \"2020-09-11T19:00:03\", \"Candidate\": \"Biden\", \"Win Probability\": 0.754575}, {\"Date\": \"2020-09-10T21:47:02\", \"Candidate\": \"Biden\", \"Win Probability\": 0.7457}, {\"Date\": \"2020-09-09T23:52:03\", \"Candidate\": \"Biden\", \"Win Probability\": 0.741525}, {\"Date\": \"2020-09-08T22:02:02\", \"Candidate\": \"Biden\", \"Win Probability\": 0.711825}, {\"Date\": \"2020-09-07T21:01:02\", \"Candidate\": \"Biden\", \"Win Probability\": 0.710275}, {\"Date\": \"2020-09-06T21:06:02\", \"Candidate\": \"Biden\", \"Win Probability\": 0.708875}, {\"Date\": \"2020-09-05T22:17:02\", \"Candidate\": \"Biden\", \"Win Probability\": 0.7034}, {\"Date\": \"2020-09-04T22:34:02\", \"Candidate\": \"Biden\", \"Win Probability\": 0.7081}, {\"Date\": \"2020-09-03T21:55:03\", \"Candidate\": \"Biden\", \"Win Probability\": 0.7013}, {\"Date\": \"2020-09-02T21:52:26\", \"Candidate\": \"Biden\", \"Win Probability\": 0.703325}, {\"Date\": \"2020-09-01T19:06:02\", \"Candidate\": \"Biden\", \"Win Probability\": 0.6881}, {\"Date\": \"2020-08-31T19:00:04\", \"Candidate\": \"Biden\", \"Win Probability\": 0.673975}, {\"Date\": \"2020-08-30T20:23:02\", \"Candidate\": \"Biden\", \"Win Probability\": 0.6865}, {\"Date\": \"2020-08-29T19:00:02\", \"Candidate\": \"Biden\", \"Win Probability\": 0.6882}, {\"Date\": \"2020-08-28T19:00:03\", \"Candidate\": \"Biden\", \"Win Probability\": 0.692525}, {\"Date\": \"2020-08-27T19:00:04\", \"Candidate\": \"Biden\", \"Win Probability\": 0.6964}, {\"Date\": \"2020-08-26T19:01:03\", \"Candidate\": \"Biden\", \"Win Probability\": 0.69555}, {\"Date\": \"2020-08-25T23:50:03\", \"Candidate\": \"Biden\", \"Win Probability\": 0.725875}, {\"Date\": \"2020-08-24T20:38:02\", \"Candidate\": \"Biden\", \"Win Probability\": 0.726975}, {\"Date\": \"2020-08-23T19:00:03\", \"Candidate\": \"Biden\", \"Win Probability\": 0.729625}, {\"Date\": \"2020-08-22T19:00:03\", \"Candidate\": \"Biden\", \"Win Probability\": 0.7255}, {\"Date\": \"2020-08-21T19:26:02\", \"Candidate\": \"Biden\", \"Win Probability\": 0.72875}, {\"Date\": \"2020-08-20T19:00:04\", \"Candidate\": \"Biden\", \"Win Probability\": 0.722825}, {\"Date\": \"2020-08-19T23:52:08\", \"Candidate\": \"Biden\", \"Win Probability\": 0.717275}, {\"Date\": \"2020-08-18T19:23:03\", \"Candidate\": \"Biden\", \"Win Probability\": 0.7291}, {\"Date\": \"2020-08-17T22:43:02\", \"Candidate\": \"Biden\", \"Win Probability\": 0.72375}, {\"Date\": \"2020-08-16T20:17:02\", \"Candidate\": \"Biden\", \"Win Probability\": 0.7145}, {\"Date\": \"2020-08-15T19:00:05\", \"Candidate\": \"Biden\", \"Win Probability\": 0.71915}, {\"Date\": \"2020-08-14T19:00:02\", \"Candidate\": \"Biden\", \"Win Probability\": 0.72925}, {\"Date\": \"2020-08-13T21:50:04\", \"Candidate\": \"Biden\", \"Win Probability\": 0.7216}, {\"Date\": \"2020-08-12T23:41:03\", \"Candidate\": \"Biden\", \"Win Probability\": 0.70875}, {\"Date\": \"2020-08-11T19:08:03\", \"Candidate\": \"Biden\", \"Win Probability\": 0.71025}]}}, {\"mode\": \"vega-lite\"});\n",
              "</script>"
            ]
          },
          "metadata": {
            "tags": []
          },
          "execution_count": 36
        }
      ]
    },
    {
      "cell_type": "markdown",
      "metadata": {
        "id": "CcpjJnRv8FUt"
      },
      "source": [
        "The win probabilities implied by the prices on the PredictIt betting market however do not exhibit this pattern. They have remained remarkably stable over time with the notable exception of the period in late September which coincides with the first debate (widely considered a Biden victory) and Trump's COVID diagnosis. The PredictIt market reacted suddenly to these events, but the prices do not adjust as election day approaches. "
      ]
    },
    {
      "cell_type": "code",
      "metadata": {
        "id": "Yw4D6XgZv07w",
        "outputId": "dff09561-d3eb-4e58-d800-3a15cdb294a9",
        "colab": {
          "base_uri": "https://localhost:8080/",
          "height": 428
        }
      },
      "source": [
        "#hide_input\n",
        "pit_pres_winner = data(3698)\n",
        "\n",
        "pit_pres_winner['Candidate']= pit_pres_winner['ContractName'].astype(str)\n",
        "pit_pres_winner['Win Probability']= pit_pres_winner['CloseSharePrice'].str.lstrip('\\$').astype(float)\n",
        "pit_pres_winner['Date']= pd.to_datetime(pit_pres_winner['Date'])\n",
        "\n",
        "pit_pres_winner = pit_pres_winner[pit_pres_winner['Candidate'].isin(['Biden', 'Trump'])]\n",
        "\n",
        "pit_pres_winner = pit_pres_winner[[\"Date\", \"Candidate\", \"Win Probability\"]]\n",
        "\n",
        "alt.Chart(pit_pres_winner).mark_line().encode(\n",
        "    x='Date',\n",
        "    y=alt.Y('Win Probability',\n",
        "        scale=alt.Scale(domain=[0,1])\n",
        "    ),\n",
        "    color='Candidate',\n",
        "    tooltip=['Date', 'Win Probability', 'Candidate']\n",
        ").properties(\n",
        "    title = \"PredictIt Presidential Probabilites\"\n",
        ")"
      ],
      "execution_count": null,
      "outputs": [
        {
          "output_type": "execute_result",
          "data": {
            "text/plain": [
              "alt.Chart(...)"
            ],
            "text/html": [
              "\n",
              "<div id=\"altair-viz-7ed57c2740ed4b28a416929a75c07c97\"></div>\n",
              "<script type=\"text/javascript\">\n",
              "  (function(spec, embedOpt){\n",
              "    let outputDiv = document.currentScript.previousElementSibling;\n",
              "    if (outputDiv.id !== \"altair-viz-7ed57c2740ed4b28a416929a75c07c97\") {\n",
              "      outputDiv = document.getElementById(\"altair-viz-7ed57c2740ed4b28a416929a75c07c97\");\n",
              "    }\n",
              "    const paths = {\n",
              "      \"vega\": \"https://cdn.jsdelivr.net/npm//vega@5?noext\",\n",
              "      \"vega-lib\": \"https://cdn.jsdelivr.net/npm//vega-lib?noext\",\n",
              "      \"vega-lite\": \"https://cdn.jsdelivr.net/npm//vega-lite@4.8.1?noext\",\n",
              "      \"vega-embed\": \"https://cdn.jsdelivr.net/npm//vega-embed@6?noext\",\n",
              "    };\n",
              "\n",
              "    function loadScript(lib) {\n",
              "      return new Promise(function(resolve, reject) {\n",
              "        var s = document.createElement('script');\n",
              "        s.src = paths[lib];\n",
              "        s.async = true;\n",
              "        s.onload = () => resolve(paths[lib]);\n",
              "        s.onerror = () => reject(`Error loading script: ${paths[lib]}`);\n",
              "        document.getElementsByTagName(\"head\")[0].appendChild(s);\n",
              "      });\n",
              "    }\n",
              "\n",
              "    function showError(err) {\n",
              "      outputDiv.innerHTML = `<div class=\"error\" style=\"color:red;\">${err}</div>`;\n",
              "      throw err;\n",
              "    }\n",
              "\n",
              "    function displayChart(vegaEmbed) {\n",
              "      vegaEmbed(outputDiv, spec, embedOpt)\n",
              "        .catch(err => showError(`Javascript Error: ${err.message}<br>This usually means there's a typo in your chart specification. See the javascript console for the full traceback.`));\n",
              "    }\n",
              "\n",
              "    if(typeof define === \"function\" && define.amd) {\n",
              "      requirejs.config({paths});\n",
              "      require([\"vega-embed\"], displayChart, err => showError(`Error loading script: ${err.message}`));\n",
              "    } else if (typeof vegaEmbed === \"function\") {\n",
              "      displayChart(vegaEmbed);\n",
              "    } else {\n",
              "      loadScript(\"vega\")\n",
              "        .then(() => loadScript(\"vega-lite\"))\n",
              "        .then(() => loadScript(\"vega-embed\"))\n",
              "        .catch(showError)\n",
              "        .then(() => displayChart(vegaEmbed));\n",
              "    }\n",
              "  })({\"usermeta\": {\"embedOptions\": {\"theme\": \"fivethirtyeight\"}}, \"config\": {\"view\": {\"continuousWidth\": 400, \"continuousHeight\": 300}}, \"data\": {\"name\": \"data-98ffd08bf1b46b0b14f497ec25fc8b23\"}, \"mark\": \"line\", \"encoding\": {\"color\": {\"type\": \"nominal\", \"field\": \"Candidate\"}, \"tooltip\": [{\"type\": \"temporal\", \"field\": \"Date\"}, {\"type\": \"quantitative\", \"field\": \"Win Probability\"}, {\"type\": \"nominal\", \"field\": \"Candidate\"}], \"x\": {\"type\": \"temporal\", \"field\": \"Date\"}, \"y\": {\"type\": \"quantitative\", \"field\": \"Win Probability\", \"scale\": {\"domain\": [0, 1]}}}, \"title\": \"PredictIt Presidential Probabilites\", \"$schema\": \"https://vega.github.io/schema/vega-lite/v4.8.1.json\", \"datasets\": {\"data-98ffd08bf1b46b0b14f497ec25fc8b23\": [{\"Date\": \"2020-07-30T00:00:00\", \"Candidate\": \"Biden\", \"Win Probability\": 0.61}, {\"Date\": \"2020-07-30T00:00:00\", \"Candidate\": \"Trump\", \"Win Probability\": 0.41}, {\"Date\": \"2020-07-31T00:00:00\", \"Candidate\": \"Biden\", \"Win Probability\": 0.61}, {\"Date\": \"2020-07-31T00:00:00\", \"Candidate\": \"Trump\", \"Win Probability\": 0.41}, {\"Date\": \"2020-08-01T00:00:00\", \"Candidate\": \"Biden\", \"Win Probability\": 0.61}, {\"Date\": \"2020-08-01T00:00:00\", \"Candidate\": \"Trump\", \"Win Probability\": 0.41}, {\"Date\": \"2020-08-02T00:00:00\", \"Candidate\": \"Biden\", \"Win Probability\": 0.59}, {\"Date\": \"2020-08-02T00:00:00\", \"Candidate\": \"Trump\", \"Win Probability\": 0.4}, {\"Date\": \"2020-08-03T00:00:00\", \"Candidate\": \"Biden\", \"Win Probability\": 0.6}, {\"Date\": \"2020-08-03T00:00:00\", \"Candidate\": \"Trump\", \"Win Probability\": 0.42}, {\"Date\": \"2020-08-04T00:00:00\", \"Candidate\": \"Biden\", \"Win Probability\": 0.6}, {\"Date\": \"2020-08-04T00:00:00\", \"Candidate\": \"Trump\", \"Win Probability\": 0.42}, {\"Date\": \"2020-08-05T00:00:00\", \"Candidate\": \"Biden\", \"Win Probability\": 0.59}, {\"Date\": \"2020-08-05T00:00:00\", \"Candidate\": \"Trump\", \"Win Probability\": 0.42}, {\"Date\": \"2020-08-06T00:00:00\", \"Candidate\": \"Biden\", \"Win Probability\": 0.58}, {\"Date\": \"2020-08-06T00:00:00\", \"Candidate\": \"Trump\", \"Win Probability\": 0.43}, {\"Date\": \"2020-08-07T00:00:00\", \"Candidate\": \"Biden\", \"Win Probability\": 0.57}, {\"Date\": \"2020-08-07T00:00:00\", \"Candidate\": \"Trump\", \"Win Probability\": 0.43}, {\"Date\": \"2020-08-08T00:00:00\", \"Candidate\": \"Biden\", \"Win Probability\": 0.57}, {\"Date\": \"2020-08-08T00:00:00\", \"Candidate\": \"Trump\", \"Win Probability\": 0.44}, {\"Date\": \"2020-08-09T00:00:00\", \"Candidate\": \"Biden\", \"Win Probability\": 0.57}, {\"Date\": \"2020-08-09T00:00:00\", \"Candidate\": \"Trump\", \"Win Probability\": 0.45}, {\"Date\": \"2020-08-10T00:00:00\", \"Candidate\": \"Biden\", \"Win Probability\": 0.57}, {\"Date\": \"2020-08-10T00:00:00\", \"Candidate\": \"Trump\", \"Win Probability\": 0.44}, {\"Date\": \"2020-08-11T00:00:00\", \"Candidate\": \"Biden\", \"Win Probability\": 0.59}, {\"Date\": \"2020-08-11T00:00:00\", \"Candidate\": \"Trump\", \"Win Probability\": 0.43}, {\"Date\": \"2020-08-12T00:00:00\", \"Candidate\": \"Biden\", \"Win Probability\": 0.59}, {\"Date\": \"2020-08-12T00:00:00\", \"Candidate\": \"Trump\", \"Win Probability\": 0.43}, {\"Date\": \"2020-08-13T00:00:00\", \"Candidate\": \"Biden\", \"Win Probability\": 0.58}, {\"Date\": \"2020-08-13T00:00:00\", \"Candidate\": \"Trump\", \"Win Probability\": 0.43}, {\"Date\": \"2020-08-14T00:00:00\", \"Candidate\": \"Biden\", \"Win Probability\": 0.58}, {\"Date\": \"2020-08-14T00:00:00\", \"Candidate\": \"Trump\", \"Win Probability\": 0.44}, {\"Date\": \"2020-08-15T00:00:00\", \"Candidate\": \"Biden\", \"Win Probability\": 0.58}, {\"Date\": \"2020-08-15T00:00:00\", \"Candidate\": \"Trump\", \"Win Probability\": 0.44}, {\"Date\": \"2020-08-16T00:00:00\", \"Candidate\": \"Biden\", \"Win Probability\": 0.58}, {\"Date\": \"2020-08-16T00:00:00\", \"Candidate\": \"Trump\", \"Win Probability\": 0.44}, {\"Date\": \"2020-08-17T00:00:00\", \"Candidate\": \"Biden\", \"Win Probability\": 0.58}, {\"Date\": \"2020-08-17T00:00:00\", \"Candidate\": \"Trump\", \"Win Probability\": 0.45}, {\"Date\": \"2020-08-18T00:00:00\", \"Candidate\": \"Biden\", \"Win Probability\": 0.57}, {\"Date\": \"2020-08-18T00:00:00\", \"Candidate\": \"Trump\", \"Win Probability\": 0.46}, {\"Date\": \"2020-08-19T00:00:00\", \"Candidate\": \"Biden\", \"Win Probability\": 0.59}, {\"Date\": \"2020-08-19T00:00:00\", \"Candidate\": \"Trump\", \"Win Probability\": 0.44}, {\"Date\": \"2020-08-20T00:00:00\", \"Candidate\": \"Biden\", \"Win Probability\": 0.6}, {\"Date\": \"2020-08-20T00:00:00\", \"Candidate\": \"Trump\", \"Win Probability\": 0.43}, {\"Date\": \"2020-08-21T00:00:00\", \"Candidate\": \"Biden\", \"Win Probability\": 0.59}, {\"Date\": \"2020-08-21T00:00:00\", \"Candidate\": \"Trump\", \"Win Probability\": 0.44}, {\"Date\": \"2020-08-22T00:00:00\", \"Candidate\": \"Biden\", \"Win Probability\": 0.59}, {\"Date\": \"2020-08-22T00:00:00\", \"Candidate\": \"Trump\", \"Win Probability\": 0.44}, {\"Date\": \"2020-08-23T00:00:00\", \"Candidate\": \"Biden\", \"Win Probability\": 0.59}, {\"Date\": \"2020-08-23T00:00:00\", \"Candidate\": \"Trump\", \"Win Probability\": 0.44}, {\"Date\": \"2020-08-24T00:00:00\", \"Candidate\": \"Biden\", \"Win Probability\": 0.6}, {\"Date\": \"2020-08-24T00:00:00\", \"Candidate\": \"Trump\", \"Win Probability\": 0.44}, {\"Date\": \"2020-08-25T00:00:00\", \"Candidate\": \"Biden\", \"Win Probability\": 0.59}, {\"Date\": \"2020-08-25T00:00:00\", \"Candidate\": \"Trump\", \"Win Probability\": 0.45}, {\"Date\": \"2020-08-26T00:00:00\", \"Candidate\": \"Biden\", \"Win Probability\": 0.57}, {\"Date\": \"2020-08-26T00:00:00\", \"Candidate\": \"Trump\", \"Win Probability\": 0.46}, {\"Date\": \"2020-08-27T00:00:00\", \"Candidate\": \"Biden\", \"Win Probability\": 0.57}, {\"Date\": \"2020-08-27T00:00:00\", \"Candidate\": \"Trump\", \"Win Probability\": 0.46}, {\"Date\": \"2020-08-28T00:00:00\", \"Candidate\": \"Biden\", \"Win Probability\": 0.56}, {\"Date\": \"2020-08-28T00:00:00\", \"Candidate\": \"Trump\", \"Win Probability\": 0.47}, {\"Date\": \"2020-08-29T00:00:00\", \"Candidate\": \"Biden\", \"Win Probability\": 0.55}, {\"Date\": \"2020-08-29T00:00:00\", \"Candidate\": \"Trump\", \"Win Probability\": 0.48}, {\"Date\": \"2020-08-30T00:00:00\", \"Candidate\": \"Biden\", \"Win Probability\": 0.56}, {\"Date\": \"2020-08-30T00:00:00\", \"Candidate\": \"Trump\", \"Win Probability\": 0.46}, {\"Date\": \"2020-08-31T00:00:00\", \"Candidate\": \"Biden\", \"Win Probability\": 0.58}, {\"Date\": \"2020-08-31T00:00:00\", \"Candidate\": \"Trump\", \"Win Probability\": 0.46}, {\"Date\": \"2020-09-01T00:00:00\", \"Candidate\": \"Biden\", \"Win Probability\": 0.56}, {\"Date\": \"2020-09-01T00:00:00\", \"Candidate\": \"Trump\", \"Win Probability\": 0.48}, {\"Date\": \"2020-09-02T00:00:00\", \"Candidate\": \"Biden\", \"Win Probability\": 0.58}, {\"Date\": \"2020-09-02T00:00:00\", \"Candidate\": \"Trump\", \"Win Probability\": 0.45}, {\"Date\": \"2020-09-03T00:00:00\", \"Candidate\": \"Biden\", \"Win Probability\": 0.58}, {\"Date\": \"2020-09-03T00:00:00\", \"Candidate\": \"Trump\", \"Win Probability\": 0.45}, {\"Date\": \"2020-09-04T00:00:00\", \"Candidate\": \"Biden\", \"Win Probability\": 0.59}, {\"Date\": \"2020-09-04T00:00:00\", \"Candidate\": \"Trump\", \"Win Probability\": 0.45}, {\"Date\": \"2020-09-05T00:00:00\", \"Candidate\": \"Biden\", \"Win Probability\": 0.58}, {\"Date\": \"2020-09-05T00:00:00\", \"Candidate\": \"Trump\", \"Win Probability\": 0.45}, {\"Date\": \"2020-09-06T00:00:00\", \"Candidate\": \"Biden\", \"Win Probability\": 0.58}, {\"Date\": \"2020-09-06T00:00:00\", \"Candidate\": \"Trump\", \"Win Probability\": 0.45}, {\"Date\": \"2020-09-07T00:00:00\", \"Candidate\": \"Biden\", \"Win Probability\": 0.59}, {\"Date\": \"2020-09-07T00:00:00\", \"Candidate\": \"Trump\", \"Win Probability\": 0.43}, {\"Date\": \"2020-09-08T00:00:00\", \"Candidate\": \"Biden\", \"Win Probability\": 0.59}, {\"Date\": \"2020-09-08T00:00:00\", \"Candidate\": \"Trump\", \"Win Probability\": 0.45}, {\"Date\": \"2020-09-09T00:00:00\", \"Candidate\": \"Biden\", \"Win Probability\": 0.58}, {\"Date\": \"2020-09-09T00:00:00\", \"Candidate\": \"Trump\", \"Win Probability\": 0.44}, {\"Date\": \"2020-09-10T00:00:00\", \"Candidate\": \"Biden\", \"Win Probability\": 0.58}, {\"Date\": \"2020-09-10T00:00:00\", \"Candidate\": \"Trump\", \"Win Probability\": 0.44}, {\"Date\": \"2020-09-11T00:00:00\", \"Candidate\": \"Biden\", \"Win Probability\": 0.59}, {\"Date\": \"2020-09-11T00:00:00\", \"Candidate\": \"Trump\", \"Win Probability\": 0.44}, {\"Date\": \"2020-09-12T00:00:00\", \"Candidate\": \"Biden\", \"Win Probability\": 0.59}, {\"Date\": \"2020-09-12T00:00:00\", \"Candidate\": \"Trump\", \"Win Probability\": 0.44}, {\"Date\": \"2020-09-13T00:00:00\", \"Candidate\": \"Biden\", \"Win Probability\": 0.59}, {\"Date\": \"2020-09-13T00:00:00\", \"Candidate\": \"Trump\", \"Win Probability\": 0.44}, {\"Date\": \"2020-09-14T00:00:00\", \"Candidate\": \"Biden\", \"Win Probability\": 0.59}, {\"Date\": \"2020-09-14T00:00:00\", \"Candidate\": \"Trump\", \"Win Probability\": 0.45}, {\"Date\": \"2020-09-15T00:00:00\", \"Candidate\": \"Biden\", \"Win Probability\": 0.58}, {\"Date\": \"2020-09-15T00:00:00\", \"Candidate\": \"Trump\", \"Win Probability\": 0.45}, {\"Date\": \"2020-09-16T00:00:00\", \"Candidate\": \"Biden\", \"Win Probability\": 0.58}, {\"Date\": \"2020-09-16T00:00:00\", \"Candidate\": \"Trump\", \"Win Probability\": 0.45}, {\"Date\": \"2020-09-17T00:00:00\", \"Candidate\": \"Biden\", \"Win Probability\": 0.58}, {\"Date\": \"2020-09-17T00:00:00\", \"Candidate\": \"Trump\", \"Win Probability\": 0.45}, {\"Date\": \"2020-09-18T00:00:00\", \"Candidate\": \"Biden\", \"Win Probability\": 0.58}, {\"Date\": \"2020-09-18T00:00:00\", \"Candidate\": \"Trump\", \"Win Probability\": 0.44}, {\"Date\": \"2020-09-19T00:00:00\", \"Candidate\": \"Biden\", \"Win Probability\": 0.58}, {\"Date\": \"2020-09-19T00:00:00\", \"Candidate\": \"Trump\", \"Win Probability\": 0.45}, {\"Date\": \"2020-09-20T00:00:00\", \"Candidate\": \"Biden\", \"Win Probability\": 0.57}, {\"Date\": \"2020-09-20T00:00:00\", \"Candidate\": \"Trump\", \"Win Probability\": 0.46}, {\"Date\": \"2020-09-21T00:00:00\", \"Candidate\": \"Biden\", \"Win Probability\": 0.58}, {\"Date\": \"2020-09-21T00:00:00\", \"Candidate\": \"Trump\", \"Win Probability\": 0.46}, {\"Date\": \"2020-09-22T00:00:00\", \"Candidate\": \"Biden\", \"Win Probability\": 0.58}, {\"Date\": \"2020-09-22T00:00:00\", \"Candidate\": \"Trump\", \"Win Probability\": 0.46}, {\"Date\": \"2020-09-23T00:00:00\", \"Candidate\": \"Biden\", \"Win Probability\": 0.57}, {\"Date\": \"2020-09-23T00:00:00\", \"Candidate\": \"Trump\", \"Win Probability\": 0.46}, {\"Date\": \"2020-09-24T00:00:00\", \"Candidate\": \"Biden\", \"Win Probability\": 0.57}, {\"Date\": \"2020-09-24T00:00:00\", \"Candidate\": \"Trump\", \"Win Probability\": 0.46}, {\"Date\": \"2020-09-25T00:00:00\", \"Candidate\": \"Biden\", \"Win Probability\": 0.57}, {\"Date\": \"2020-09-25T00:00:00\", \"Candidate\": \"Trump\", \"Win Probability\": 0.46}, {\"Date\": \"2020-09-26T00:00:00\", \"Candidate\": \"Biden\", \"Win Probability\": 0.57}, {\"Date\": \"2020-09-26T00:00:00\", \"Candidate\": \"Trump\", \"Win Probability\": 0.47}, {\"Date\": \"2020-09-27T00:00:00\", \"Candidate\": \"Biden\", \"Win Probability\": 0.58}, {\"Date\": \"2020-09-27T00:00:00\", \"Candidate\": \"Trump\", \"Win Probability\": 0.46}, {\"Date\": \"2020-09-28T00:00:00\", \"Candidate\": \"Biden\", \"Win Probability\": 0.59}, {\"Date\": \"2020-09-28T00:00:00\", \"Candidate\": \"Trump\", \"Win Probability\": 0.45}, {\"Date\": \"2020-09-29T00:00:00\", \"Candidate\": \"Biden\", \"Win Probability\": 0.59}, {\"Date\": \"2020-09-29T00:00:00\", \"Candidate\": \"Trump\", \"Win Probability\": 0.43}, {\"Date\": \"2020-09-30T00:00:00\", \"Candidate\": \"Biden\", \"Win Probability\": 0.62}, {\"Date\": \"2020-09-30T00:00:00\", \"Candidate\": \"Trump\", \"Win Probability\": 0.42}, {\"Date\": \"2020-10-01T00:00:00\", \"Candidate\": \"Biden\", \"Win Probability\": 0.66}, {\"Date\": \"2020-10-01T00:00:00\", \"Candidate\": \"Trump\", \"Win Probability\": 0.39}, {\"Date\": \"2020-10-02T00:00:00\", \"Candidate\": \"Biden\", \"Win Probability\": 0.64}, {\"Date\": \"2020-10-02T00:00:00\", \"Candidate\": \"Trump\", \"Win Probability\": 0.37}, {\"Date\": \"2020-10-03T00:00:00\", \"Candidate\": \"Biden\", \"Win Probability\": 0.63}, {\"Date\": \"2020-10-03T00:00:00\", \"Candidate\": \"Trump\", \"Win Probability\": 0.4}, {\"Date\": \"2020-10-04T00:00:00\", \"Candidate\": \"Biden\", \"Win Probability\": 0.64}, {\"Date\": \"2020-10-04T00:00:00\", \"Candidate\": \"Trump\", \"Win Probability\": 0.39}, {\"Date\": \"2020-10-05T00:00:00\", \"Candidate\": \"Biden\", \"Win Probability\": 0.63}, {\"Date\": \"2020-10-05T00:00:00\", \"Candidate\": \"Trump\", \"Win Probability\": 0.4}, {\"Date\": \"2020-10-06T00:00:00\", \"Candidate\": \"Biden\", \"Win Probability\": 0.66}, {\"Date\": \"2020-10-06T00:00:00\", \"Candidate\": \"Trump\", \"Win Probability\": 0.37}, {\"Date\": \"2020-10-07T00:00:00\", \"Candidate\": \"Biden\", \"Win Probability\": 0.67}, {\"Date\": \"2020-10-07T00:00:00\", \"Candidate\": \"Trump\", \"Win Probability\": 0.37}, {\"Date\": \"2020-10-08T00:00:00\", \"Candidate\": \"Biden\", \"Win Probability\": 0.67}, {\"Date\": \"2020-10-08T00:00:00\", \"Candidate\": \"Trump\", \"Win Probability\": 0.37}, {\"Date\": \"2020-10-09T00:00:00\", \"Candidate\": \"Biden\", \"Win Probability\": 0.68}, {\"Date\": \"2020-10-09T00:00:00\", \"Candidate\": \"Trump\", \"Win Probability\": 0.37}, {\"Date\": \"2020-10-10T00:00:00\", \"Candidate\": \"Biden\", \"Win Probability\": 0.65}, {\"Date\": \"2020-10-10T00:00:00\", \"Candidate\": \"Trump\", \"Win Probability\": 0.4}, {\"Date\": \"2020-10-11T00:00:00\", \"Candidate\": \"Biden\", \"Win Probability\": 0.67}, {\"Date\": \"2020-10-11T00:00:00\", \"Candidate\": \"Trump\", \"Win Probability\": 0.39}, {\"Date\": \"2020-10-12T00:00:00\", \"Candidate\": \"Biden\", \"Win Probability\": 0.65}, {\"Date\": \"2020-10-12T00:00:00\", \"Candidate\": \"Trump\", \"Win Probability\": 0.4}, {\"Date\": \"2020-10-13T00:00:00\", \"Candidate\": \"Biden\", \"Win Probability\": 0.66}, {\"Date\": \"2020-10-13T00:00:00\", \"Candidate\": \"Trump\", \"Win Probability\": 0.39}, {\"Date\": \"2020-10-14T00:00:00\", \"Candidate\": \"Biden\", \"Win Probability\": 0.65}, {\"Date\": \"2020-10-14T00:00:00\", \"Candidate\": \"Trump\", \"Win Probability\": 0.4}, {\"Date\": \"2020-10-15T00:00:00\", \"Candidate\": \"Biden\", \"Win Probability\": 0.66}, {\"Date\": \"2020-10-15T00:00:00\", \"Candidate\": \"Trump\", \"Win Probability\": 0.39}, {\"Date\": \"2020-10-16T00:00:00\", \"Candidate\": \"Biden\", \"Win Probability\": 0.65}, {\"Date\": \"2020-10-16T00:00:00\", \"Candidate\": \"Trump\", \"Win Probability\": 0.4}, {\"Date\": \"2020-10-17T00:00:00\", \"Candidate\": \"Biden\", \"Win Probability\": 0.65}, {\"Date\": \"2020-10-17T00:00:00\", \"Candidate\": \"Trump\", \"Win Probability\": 0.4}, {\"Date\": \"2020-10-18T00:00:00\", \"Candidate\": \"Biden\", \"Win Probability\": 0.64}, {\"Date\": \"2020-10-18T00:00:00\", \"Candidate\": \"Trump\", \"Win Probability\": 0.4}, {\"Date\": \"2020-10-19T00:00:00\", \"Candidate\": \"Biden\", \"Win Probability\": 0.65}, {\"Date\": \"2020-10-19T00:00:00\", \"Candidate\": \"Trump\", \"Win Probability\": 0.4}, {\"Date\": \"2020-10-20T00:00:00\", \"Candidate\": \"Biden\", \"Win Probability\": 0.64}, {\"Date\": \"2020-10-20T00:00:00\", \"Candidate\": \"Trump\", \"Win Probability\": 0.4}, {\"Date\": \"2020-10-21T00:00:00\", \"Candidate\": \"Biden\", \"Win Probability\": 0.65}, {\"Date\": \"2020-10-21T00:00:00\", \"Candidate\": \"Trump\", \"Win Probability\": 0.42}, {\"Date\": \"2020-10-22T00:00:00\", \"Candidate\": \"Biden\", \"Win Probability\": 0.64}, {\"Date\": \"2020-10-22T00:00:00\", \"Candidate\": \"Trump\", \"Win Probability\": 0.42}, {\"Date\": \"2020-10-23T00:00:00\", \"Candidate\": \"Biden\", \"Win Probability\": 0.64}, {\"Date\": \"2020-10-23T00:00:00\", \"Candidate\": \"Trump\", \"Win Probability\": 0.41}, {\"Date\": \"2020-10-24T00:00:00\", \"Candidate\": \"Biden\", \"Win Probability\": 0.64}, {\"Date\": \"2020-10-24T00:00:00\", \"Candidate\": \"Trump\", \"Win Probability\": 0.42}, {\"Date\": \"2020-10-25T00:00:00\", \"Candidate\": \"Biden\", \"Win Probability\": 0.64}, {\"Date\": \"2020-10-25T00:00:00\", \"Candidate\": \"Trump\", \"Win Probability\": 0.41}, {\"Date\": \"2020-10-26T00:00:00\", \"Candidate\": \"Biden\", \"Win Probability\": 0.64}, {\"Date\": \"2020-10-26T00:00:00\", \"Candidate\": \"Trump\", \"Win Probability\": 0.42}, {\"Date\": \"2020-10-27T00:00:00\", \"Candidate\": \"Biden\", \"Win Probability\": 0.63}, {\"Date\": \"2020-10-27T00:00:00\", \"Candidate\": \"Trump\", \"Win Probability\": 0.42}]}}, {\"mode\": \"vega-lite\"});\n",
              "</script>"
            ]
          },
          "metadata": {
            "tags": []
          },
          "execution_count": 37
        }
      ]
    },
    {
      "cell_type": "markdown",
      "metadata": {
        "id": "8PQwG5Wx9rRs"
      },
      "source": [
        "Here are the chances of a Biden victory presented from both sources, to illustrate the difference: "
      ]
    },
    {
      "cell_type": "code",
      "metadata": {
        "id": "P58DHqMzDEdi"
      },
      "source": [
        "#hide_input\n",
        "#Join Datasets\n",
        "fte_pres_winner[\"Date\"] = fte_pres_winner[\"Date\"].dt.date\n",
        "pit_pres_winner[\"Date\"] = pit_pres_winner[\"Date\"].dt.date\n",
        "\n",
        "merged = pd.merge(pit_pres_winner,fte_pres_winner, on=['Date','Candidate'], suffixes=[\" pit\", \" fte\"])\n",
        "merged = merged.rename(columns={\"Win Probability pit\": \"PredictIt\", \"Win Probability fte\": \"FiveThirtyEight\"})\n",
        "\n",
        "merged = pd.melt(merged, id_vars = [\"Date\", \"Candidate\"], value_vars=[\"PredictIt\", \"FiveThirtyEight\"], \n",
        "                 var_name='Source', value_name='Win Probability')\n",
        "\n",
        "merged[\"Date\"] = pd.to_datetime(merged.Date)\n",
        "merged_biden = merged[merged[\"Candidate\"] == \"Biden\"]"
      ],
      "execution_count": null,
      "outputs": []
    },
    {
      "cell_type": "code",
      "metadata": {
        "id": "_Upw8YvVLGtS",
        "outputId": "d030de24-33e3-4bea-f607-bb15ff6986a2",
        "colab": {
          "base_uri": "https://localhost:8080/",
          "height": 428
        }
      },
      "source": [
        "#hide_input\n",
        "alt.Chart(merged_biden).mark_line().encode(\n",
        "    x='Date',\n",
        "    y=alt.Y('Win Probability',\n",
        "        scale=alt.Scale(domain=[0,1])\n",
        "    ),\n",
        "    color=alt.Color('Source',\n",
        "                   scale=alt.Scale(\n",
        "                       domain=['FiveThirtyEight', 'PredictIt'],\n",
        "                       range=['rgb(222,119,72)', 'rgb(70,159,184'])),   \n",
        "    tooltip=['Date', \"Source\", \"Win Probability\"], \n",
        ").properties(\n",
        "    title = \"Biden's Election Probabilites\"\n",
        ")"
      ],
      "execution_count": null,
      "outputs": [
        {
          "output_type": "execute_result",
          "data": {
            "text/plain": [
              "alt.Chart(...)"
            ],
            "text/html": [
              "\n",
              "<div id=\"altair-viz-db50dbdf902b495cbb1a23271d44f16b\"></div>\n",
              "<script type=\"text/javascript\">\n",
              "  (function(spec, embedOpt){\n",
              "    let outputDiv = document.currentScript.previousElementSibling;\n",
              "    if (outputDiv.id !== \"altair-viz-db50dbdf902b495cbb1a23271d44f16b\") {\n",
              "      outputDiv = document.getElementById(\"altair-viz-db50dbdf902b495cbb1a23271d44f16b\");\n",
              "    }\n",
              "    const paths = {\n",
              "      \"vega\": \"https://cdn.jsdelivr.net/npm//vega@5?noext\",\n",
              "      \"vega-lib\": \"https://cdn.jsdelivr.net/npm//vega-lib?noext\",\n",
              "      \"vega-lite\": \"https://cdn.jsdelivr.net/npm//vega-lite@4.8.1?noext\",\n",
              "      \"vega-embed\": \"https://cdn.jsdelivr.net/npm//vega-embed@6?noext\",\n",
              "    };\n",
              "\n",
              "    function loadScript(lib) {\n",
              "      return new Promise(function(resolve, reject) {\n",
              "        var s = document.createElement('script');\n",
              "        s.src = paths[lib];\n",
              "        s.async = true;\n",
              "        s.onload = () => resolve(paths[lib]);\n",
              "        s.onerror = () => reject(`Error loading script: ${paths[lib]}`);\n",
              "        document.getElementsByTagName(\"head\")[0].appendChild(s);\n",
              "      });\n",
              "    }\n",
              "\n",
              "    function showError(err) {\n",
              "      outputDiv.innerHTML = `<div class=\"error\" style=\"color:red;\">${err}</div>`;\n",
              "      throw err;\n",
              "    }\n",
              "\n",
              "    function displayChart(vegaEmbed) {\n",
              "      vegaEmbed(outputDiv, spec, embedOpt)\n",
              "        .catch(err => showError(`Javascript Error: ${err.message}<br>This usually means there's a typo in your chart specification. See the javascript console for the full traceback.`));\n",
              "    }\n",
              "\n",
              "    if(typeof define === \"function\" && define.amd) {\n",
              "      requirejs.config({paths});\n",
              "      require([\"vega-embed\"], displayChart, err => showError(`Error loading script: ${err.message}`));\n",
              "    } else if (typeof vegaEmbed === \"function\") {\n",
              "      displayChart(vegaEmbed);\n",
              "    } else {\n",
              "      loadScript(\"vega\")\n",
              "        .then(() => loadScript(\"vega-lite\"))\n",
              "        .then(() => loadScript(\"vega-embed\"))\n",
              "        .catch(showError)\n",
              "        .then(() => displayChart(vegaEmbed));\n",
              "    }\n",
              "  })({\"usermeta\": {\"embedOptions\": {\"theme\": \"fivethirtyeight\"}}, \"config\": {\"view\": {\"continuousWidth\": 400, \"continuousHeight\": 300}}, \"data\": {\"name\": \"data-9daf686285eed43144f7d02bf98ed9d8\"}, \"mark\": \"line\", \"encoding\": {\"color\": {\"type\": \"nominal\", \"field\": \"Source\", \"scale\": {\"domain\": [\"FiveThirtyEight\", \"PredictIt\"], \"range\": [\"rgb(222,119,72)\", \"rgb(70,159,184\"]}}, \"tooltip\": [{\"type\": \"temporal\", \"field\": \"Date\"}, {\"type\": \"nominal\", \"field\": \"Source\"}, {\"type\": \"quantitative\", \"field\": \"Win Probability\"}], \"x\": {\"type\": \"temporal\", \"field\": \"Date\"}, \"y\": {\"type\": \"quantitative\", \"field\": \"Win Probability\", \"scale\": {\"domain\": [0, 1]}}}, \"title\": \"Biden's Election Probabilites\", \"$schema\": \"https://vega.github.io/schema/vega-lite/v4.8.1.json\", \"datasets\": {\"data-9daf686285eed43144f7d02bf98ed9d8\": [{\"Date\": \"2020-08-11T00:00:00\", \"Candidate\": \"Biden\", \"Source\": \"PredictIt\", \"Win Probability\": 0.59}, {\"Date\": \"2020-08-12T00:00:00\", \"Candidate\": \"Biden\", \"Source\": \"PredictIt\", \"Win Probability\": 0.59}, {\"Date\": \"2020-08-13T00:00:00\", \"Candidate\": \"Biden\", \"Source\": \"PredictIt\", \"Win Probability\": 0.58}, {\"Date\": \"2020-08-14T00:00:00\", \"Candidate\": \"Biden\", \"Source\": \"PredictIt\", \"Win Probability\": 0.58}, {\"Date\": \"2020-08-15T00:00:00\", \"Candidate\": \"Biden\", \"Source\": \"PredictIt\", \"Win Probability\": 0.58}, {\"Date\": \"2020-08-16T00:00:00\", \"Candidate\": \"Biden\", \"Source\": \"PredictIt\", \"Win Probability\": 0.58}, {\"Date\": \"2020-08-17T00:00:00\", \"Candidate\": \"Biden\", \"Source\": \"PredictIt\", \"Win Probability\": 0.58}, {\"Date\": \"2020-08-18T00:00:00\", \"Candidate\": \"Biden\", \"Source\": \"PredictIt\", \"Win Probability\": 0.57}, {\"Date\": \"2020-08-19T00:00:00\", \"Candidate\": \"Biden\", \"Source\": \"PredictIt\", \"Win Probability\": 0.59}, {\"Date\": \"2020-08-20T00:00:00\", \"Candidate\": \"Biden\", \"Source\": \"PredictIt\", \"Win Probability\": 0.6}, {\"Date\": \"2020-08-21T00:00:00\", \"Candidate\": \"Biden\", \"Source\": \"PredictIt\", \"Win Probability\": 0.59}, {\"Date\": \"2020-08-22T00:00:00\", \"Candidate\": \"Biden\", \"Source\": \"PredictIt\", \"Win Probability\": 0.59}, {\"Date\": \"2020-08-23T00:00:00\", \"Candidate\": \"Biden\", \"Source\": \"PredictIt\", \"Win Probability\": 0.59}, {\"Date\": \"2020-08-24T00:00:00\", \"Candidate\": \"Biden\", \"Source\": \"PredictIt\", \"Win Probability\": 0.6}, {\"Date\": \"2020-08-25T00:00:00\", \"Candidate\": \"Biden\", \"Source\": \"PredictIt\", \"Win Probability\": 0.59}, {\"Date\": \"2020-08-26T00:00:00\", \"Candidate\": \"Biden\", \"Source\": \"PredictIt\", \"Win Probability\": 0.57}, {\"Date\": \"2020-08-27T00:00:00\", \"Candidate\": \"Biden\", \"Source\": \"PredictIt\", \"Win Probability\": 0.57}, {\"Date\": \"2020-08-28T00:00:00\", \"Candidate\": \"Biden\", \"Source\": \"PredictIt\", \"Win Probability\": 0.56}, {\"Date\": \"2020-08-29T00:00:00\", \"Candidate\": \"Biden\", \"Source\": \"PredictIt\", \"Win Probability\": 0.55}, {\"Date\": \"2020-08-30T00:00:00\", \"Candidate\": \"Biden\", \"Source\": \"PredictIt\", \"Win Probability\": 0.56}, {\"Date\": \"2020-08-31T00:00:00\", \"Candidate\": \"Biden\", \"Source\": \"PredictIt\", \"Win Probability\": 0.58}, {\"Date\": \"2020-09-01T00:00:00\", \"Candidate\": \"Biden\", \"Source\": \"PredictIt\", \"Win Probability\": 0.56}, {\"Date\": \"2020-09-02T00:00:00\", \"Candidate\": \"Biden\", \"Source\": \"PredictIt\", \"Win Probability\": 0.58}, {\"Date\": \"2020-09-03T00:00:00\", \"Candidate\": \"Biden\", \"Source\": \"PredictIt\", \"Win Probability\": 0.58}, {\"Date\": \"2020-09-04T00:00:00\", \"Candidate\": \"Biden\", \"Source\": \"PredictIt\", \"Win Probability\": 0.59}, {\"Date\": \"2020-09-05T00:00:00\", \"Candidate\": \"Biden\", \"Source\": \"PredictIt\", \"Win Probability\": 0.58}, {\"Date\": \"2020-09-06T00:00:00\", \"Candidate\": \"Biden\", \"Source\": \"PredictIt\", \"Win Probability\": 0.58}, {\"Date\": \"2020-09-07T00:00:00\", \"Candidate\": \"Biden\", \"Source\": \"PredictIt\", \"Win Probability\": 0.59}, {\"Date\": \"2020-09-08T00:00:00\", \"Candidate\": \"Biden\", \"Source\": \"PredictIt\", \"Win Probability\": 0.59}, {\"Date\": \"2020-09-09T00:00:00\", \"Candidate\": \"Biden\", \"Source\": \"PredictIt\", \"Win Probability\": 0.58}, {\"Date\": \"2020-09-10T00:00:00\", \"Candidate\": \"Biden\", \"Source\": \"PredictIt\", \"Win Probability\": 0.58}, {\"Date\": \"2020-09-11T00:00:00\", \"Candidate\": \"Biden\", \"Source\": \"PredictIt\", \"Win Probability\": 0.59}, {\"Date\": \"2020-09-12T00:00:00\", \"Candidate\": \"Biden\", \"Source\": \"PredictIt\", \"Win Probability\": 0.59}, {\"Date\": \"2020-09-13T00:00:00\", \"Candidate\": \"Biden\", \"Source\": \"PredictIt\", \"Win Probability\": 0.59}, {\"Date\": \"2020-09-14T00:00:00\", \"Candidate\": \"Biden\", \"Source\": \"PredictIt\", \"Win Probability\": 0.59}, {\"Date\": \"2020-09-15T00:00:00\", \"Candidate\": \"Biden\", \"Source\": \"PredictIt\", \"Win Probability\": 0.58}, {\"Date\": \"2020-09-16T00:00:00\", \"Candidate\": \"Biden\", \"Source\": \"PredictIt\", \"Win Probability\": 0.58}, {\"Date\": \"2020-09-17T00:00:00\", \"Candidate\": \"Biden\", \"Source\": \"PredictIt\", \"Win Probability\": 0.58}, {\"Date\": \"2020-09-18T00:00:00\", \"Candidate\": \"Biden\", \"Source\": \"PredictIt\", \"Win Probability\": 0.58}, {\"Date\": \"2020-09-19T00:00:00\", \"Candidate\": \"Biden\", \"Source\": \"PredictIt\", \"Win Probability\": 0.58}, {\"Date\": \"2020-09-20T00:00:00\", \"Candidate\": \"Biden\", \"Source\": \"PredictIt\", \"Win Probability\": 0.57}, {\"Date\": \"2020-09-21T00:00:00\", \"Candidate\": \"Biden\", \"Source\": \"PredictIt\", \"Win Probability\": 0.58}, {\"Date\": \"2020-09-22T00:00:00\", \"Candidate\": \"Biden\", \"Source\": \"PredictIt\", \"Win Probability\": 0.58}, {\"Date\": \"2020-09-23T00:00:00\", \"Candidate\": \"Biden\", \"Source\": \"PredictIt\", \"Win Probability\": 0.57}, {\"Date\": \"2020-09-24T00:00:00\", \"Candidate\": \"Biden\", \"Source\": \"PredictIt\", \"Win Probability\": 0.57}, {\"Date\": \"2020-09-25T00:00:00\", \"Candidate\": \"Biden\", \"Source\": \"PredictIt\", \"Win Probability\": 0.57}, {\"Date\": \"2020-09-26T00:00:00\", \"Candidate\": \"Biden\", \"Source\": \"PredictIt\", \"Win Probability\": 0.57}, {\"Date\": \"2020-09-27T00:00:00\", \"Candidate\": \"Biden\", \"Source\": \"PredictIt\", \"Win Probability\": 0.58}, {\"Date\": \"2020-09-28T00:00:00\", \"Candidate\": \"Biden\", \"Source\": \"PredictIt\", \"Win Probability\": 0.59}, {\"Date\": \"2020-09-29T00:00:00\", \"Candidate\": \"Biden\", \"Source\": \"PredictIt\", \"Win Probability\": 0.59}, {\"Date\": \"2020-09-30T00:00:00\", \"Candidate\": \"Biden\", \"Source\": \"PredictIt\", \"Win Probability\": 0.62}, {\"Date\": \"2020-10-01T00:00:00\", \"Candidate\": \"Biden\", \"Source\": \"PredictIt\", \"Win Probability\": 0.66}, {\"Date\": \"2020-10-02T00:00:00\", \"Candidate\": \"Biden\", \"Source\": \"PredictIt\", \"Win Probability\": 0.64}, {\"Date\": \"2020-10-03T00:00:00\", \"Candidate\": \"Biden\", \"Source\": \"PredictIt\", \"Win Probability\": 0.63}, {\"Date\": \"2020-10-04T00:00:00\", \"Candidate\": \"Biden\", \"Source\": \"PredictIt\", \"Win Probability\": 0.64}, {\"Date\": \"2020-10-05T00:00:00\", \"Candidate\": \"Biden\", \"Source\": \"PredictIt\", \"Win Probability\": 0.63}, {\"Date\": \"2020-10-06T00:00:00\", \"Candidate\": \"Biden\", \"Source\": \"PredictIt\", \"Win Probability\": 0.66}, {\"Date\": \"2020-10-07T00:00:00\", \"Candidate\": \"Biden\", \"Source\": \"PredictIt\", \"Win Probability\": 0.67}, {\"Date\": \"2020-10-08T00:00:00\", \"Candidate\": \"Biden\", \"Source\": \"PredictIt\", \"Win Probability\": 0.67}, {\"Date\": \"2020-10-09T00:00:00\", \"Candidate\": \"Biden\", \"Source\": \"PredictIt\", \"Win Probability\": 0.68}, {\"Date\": \"2020-10-10T00:00:00\", \"Candidate\": \"Biden\", \"Source\": \"PredictIt\", \"Win Probability\": 0.65}, {\"Date\": \"2020-10-11T00:00:00\", \"Candidate\": \"Biden\", \"Source\": \"PredictIt\", \"Win Probability\": 0.67}, {\"Date\": \"2020-10-12T00:00:00\", \"Candidate\": \"Biden\", \"Source\": \"PredictIt\", \"Win Probability\": 0.65}, {\"Date\": \"2020-10-13T00:00:00\", \"Candidate\": \"Biden\", \"Source\": \"PredictIt\", \"Win Probability\": 0.66}, {\"Date\": \"2020-10-14T00:00:00\", \"Candidate\": \"Biden\", \"Source\": \"PredictIt\", \"Win Probability\": 0.65}, {\"Date\": \"2020-10-15T00:00:00\", \"Candidate\": \"Biden\", \"Source\": \"PredictIt\", \"Win Probability\": 0.66}, {\"Date\": \"2020-10-16T00:00:00\", \"Candidate\": \"Biden\", \"Source\": \"PredictIt\", \"Win Probability\": 0.65}, {\"Date\": \"2020-10-17T00:00:00\", \"Candidate\": \"Biden\", \"Source\": \"PredictIt\", \"Win Probability\": 0.65}, {\"Date\": \"2020-10-18T00:00:00\", \"Candidate\": \"Biden\", \"Source\": \"PredictIt\", \"Win Probability\": 0.64}, {\"Date\": \"2020-10-19T00:00:00\", \"Candidate\": \"Biden\", \"Source\": \"PredictIt\", \"Win Probability\": 0.65}, {\"Date\": \"2020-10-20T00:00:00\", \"Candidate\": \"Biden\", \"Source\": \"PredictIt\", \"Win Probability\": 0.64}, {\"Date\": \"2020-10-21T00:00:00\", \"Candidate\": \"Biden\", \"Source\": \"PredictIt\", \"Win Probability\": 0.65}, {\"Date\": \"2020-10-22T00:00:00\", \"Candidate\": \"Biden\", \"Source\": \"PredictIt\", \"Win Probability\": 0.64}, {\"Date\": \"2020-10-23T00:00:00\", \"Candidate\": \"Biden\", \"Source\": \"PredictIt\", \"Win Probability\": 0.64}, {\"Date\": \"2020-10-24T00:00:00\", \"Candidate\": \"Biden\", \"Source\": \"PredictIt\", \"Win Probability\": 0.64}, {\"Date\": \"2020-10-25T00:00:00\", \"Candidate\": \"Biden\", \"Source\": \"PredictIt\", \"Win Probability\": 0.64}, {\"Date\": \"2020-10-26T00:00:00\", \"Candidate\": \"Biden\", \"Source\": \"PredictIt\", \"Win Probability\": 0.64}, {\"Date\": \"2020-10-27T00:00:00\", \"Candidate\": \"Biden\", \"Source\": \"PredictIt\", \"Win Probability\": 0.63}, {\"Date\": \"2020-08-11T00:00:00\", \"Candidate\": \"Biden\", \"Source\": \"FiveThirtyEight\", \"Win Probability\": 0.71025}, {\"Date\": \"2020-08-12T00:00:00\", \"Candidate\": \"Biden\", \"Source\": \"FiveThirtyEight\", \"Win Probability\": 0.70875}, {\"Date\": \"2020-08-13T00:00:00\", \"Candidate\": \"Biden\", \"Source\": \"FiveThirtyEight\", \"Win Probability\": 0.7216}, {\"Date\": \"2020-08-14T00:00:00\", \"Candidate\": \"Biden\", \"Source\": \"FiveThirtyEight\", \"Win Probability\": 0.72925}, {\"Date\": \"2020-08-15T00:00:00\", \"Candidate\": \"Biden\", \"Source\": \"FiveThirtyEight\", \"Win Probability\": 0.71915}, {\"Date\": \"2020-08-16T00:00:00\", \"Candidate\": \"Biden\", \"Source\": \"FiveThirtyEight\", \"Win Probability\": 0.7145}, {\"Date\": \"2020-08-17T00:00:00\", \"Candidate\": \"Biden\", \"Source\": \"FiveThirtyEight\", \"Win Probability\": 0.72375}, {\"Date\": \"2020-08-18T00:00:00\", \"Candidate\": \"Biden\", \"Source\": \"FiveThirtyEight\", \"Win Probability\": 0.7291}, {\"Date\": \"2020-08-19T00:00:00\", \"Candidate\": \"Biden\", \"Source\": \"FiveThirtyEight\", \"Win Probability\": 0.717275}, {\"Date\": \"2020-08-20T00:00:00\", \"Candidate\": \"Biden\", \"Source\": \"FiveThirtyEight\", \"Win Probability\": 0.722825}, {\"Date\": \"2020-08-21T00:00:00\", \"Candidate\": \"Biden\", \"Source\": \"FiveThirtyEight\", \"Win Probability\": 0.72875}, {\"Date\": \"2020-08-22T00:00:00\", \"Candidate\": \"Biden\", \"Source\": \"FiveThirtyEight\", \"Win Probability\": 0.7255}, {\"Date\": \"2020-08-23T00:00:00\", \"Candidate\": \"Biden\", \"Source\": \"FiveThirtyEight\", \"Win Probability\": 0.729625}, {\"Date\": \"2020-08-24T00:00:00\", \"Candidate\": \"Biden\", \"Source\": \"FiveThirtyEight\", \"Win Probability\": 0.726975}, {\"Date\": \"2020-08-25T00:00:00\", \"Candidate\": \"Biden\", \"Source\": \"FiveThirtyEight\", \"Win Probability\": 0.725875}, {\"Date\": \"2020-08-26T00:00:00\", \"Candidate\": \"Biden\", \"Source\": \"FiveThirtyEight\", \"Win Probability\": 0.69555}, {\"Date\": \"2020-08-27T00:00:00\", \"Candidate\": \"Biden\", \"Source\": \"FiveThirtyEight\", \"Win Probability\": 0.6964}, {\"Date\": \"2020-08-28T00:00:00\", \"Candidate\": \"Biden\", \"Source\": \"FiveThirtyEight\", \"Win Probability\": 0.692525}, {\"Date\": \"2020-08-29T00:00:00\", \"Candidate\": \"Biden\", \"Source\": \"FiveThirtyEight\", \"Win Probability\": 0.6882}, {\"Date\": \"2020-08-30T00:00:00\", \"Candidate\": \"Biden\", \"Source\": \"FiveThirtyEight\", \"Win Probability\": 0.6865}, {\"Date\": \"2020-08-31T00:00:00\", \"Candidate\": \"Biden\", \"Source\": \"FiveThirtyEight\", \"Win Probability\": 0.673975}, {\"Date\": \"2020-09-01T00:00:00\", \"Candidate\": \"Biden\", \"Source\": \"FiveThirtyEight\", \"Win Probability\": 0.6881}, {\"Date\": \"2020-09-02T00:00:00\", \"Candidate\": \"Biden\", \"Source\": \"FiveThirtyEight\", \"Win Probability\": 0.703325}, {\"Date\": \"2020-09-03T00:00:00\", \"Candidate\": \"Biden\", \"Source\": \"FiveThirtyEight\", \"Win Probability\": 0.7013}, {\"Date\": \"2020-09-04T00:00:00\", \"Candidate\": \"Biden\", \"Source\": \"FiveThirtyEight\", \"Win Probability\": 0.7081}, {\"Date\": \"2020-09-05T00:00:00\", \"Candidate\": \"Biden\", \"Source\": \"FiveThirtyEight\", \"Win Probability\": 0.7034}, {\"Date\": \"2020-09-06T00:00:00\", \"Candidate\": \"Biden\", \"Source\": \"FiveThirtyEight\", \"Win Probability\": 0.708875}, {\"Date\": \"2020-09-07T00:00:00\", \"Candidate\": \"Biden\", \"Source\": \"FiveThirtyEight\", \"Win Probability\": 0.710275}, {\"Date\": \"2020-09-08T00:00:00\", \"Candidate\": \"Biden\", \"Source\": \"FiveThirtyEight\", \"Win Probability\": 0.711825}, {\"Date\": \"2020-09-09T00:00:00\", \"Candidate\": \"Biden\", \"Source\": \"FiveThirtyEight\", \"Win Probability\": 0.741525}, {\"Date\": \"2020-09-10T00:00:00\", \"Candidate\": \"Biden\", \"Source\": \"FiveThirtyEight\", \"Win Probability\": 0.7457}, {\"Date\": \"2020-09-11T00:00:00\", \"Candidate\": \"Biden\", \"Source\": \"FiveThirtyEight\", \"Win Probability\": 0.754575}, {\"Date\": \"2020-09-12T00:00:00\", \"Candidate\": \"Biden\", \"Source\": \"FiveThirtyEight\", \"Win Probability\": 0.749775}, {\"Date\": \"2020-09-13T00:00:00\", \"Candidate\": \"Biden\", \"Source\": \"FiveThirtyEight\", \"Win Probability\": 0.754475}, {\"Date\": \"2020-09-14T00:00:00\", \"Candidate\": \"Biden\", \"Source\": \"FiveThirtyEight\", \"Win Probability\": 0.755925}, {\"Date\": \"2020-09-15T00:00:00\", \"Candidate\": \"Biden\", \"Source\": \"FiveThirtyEight\", \"Win Probability\": 0.757575}, {\"Date\": \"2020-09-16T00:00:00\", \"Candidate\": \"Biden\", \"Source\": \"FiveThirtyEight\", \"Win Probability\": 0.760775}, {\"Date\": \"2020-09-17T00:00:00\", \"Candidate\": \"Biden\", \"Source\": \"FiveThirtyEight\", \"Win Probability\": 0.7579}, {\"Date\": \"2020-09-18T00:00:00\", \"Candidate\": \"Biden\", \"Source\": \"FiveThirtyEight\", \"Win Probability\": 0.768}, {\"Date\": \"2020-09-19T00:00:00\", \"Candidate\": \"Biden\", \"Source\": \"FiveThirtyEight\", \"Win Probability\": 0.771425}, {\"Date\": \"2020-09-20T00:00:00\", \"Candidate\": \"Biden\", \"Source\": \"FiveThirtyEight\", \"Win Probability\": 0.76835}, {\"Date\": \"2020-09-21T00:00:00\", \"Candidate\": \"Biden\", \"Source\": \"FiveThirtyEight\", \"Win Probability\": 0.769225}, {\"Date\": \"2020-09-22T00:00:00\", \"Candidate\": \"Biden\", \"Source\": \"FiveThirtyEight\", \"Win Probability\": 0.7686}, {\"Date\": \"2020-09-23T00:00:00\", \"Candidate\": \"Biden\", \"Source\": \"FiveThirtyEight\", \"Win Probability\": 0.772925}, {\"Date\": \"2020-09-24T00:00:00\", \"Candidate\": \"Biden\", \"Source\": \"FiveThirtyEight\", \"Win Probability\": 0.766175}, {\"Date\": \"2020-09-25T00:00:00\", \"Candidate\": \"Biden\", \"Source\": \"FiveThirtyEight\", \"Win Probability\": 0.76685}, {\"Date\": \"2020-09-26T00:00:00\", \"Candidate\": \"Biden\", \"Source\": \"FiveThirtyEight\", \"Win Probability\": 0.769675}, {\"Date\": \"2020-09-27T00:00:00\", \"Candidate\": \"Biden\", \"Source\": \"FiveThirtyEight\", \"Win Probability\": 0.7756}, {\"Date\": \"2020-09-28T00:00:00\", \"Candidate\": \"Biden\", \"Source\": \"FiveThirtyEight\", \"Win Probability\": 0.775725}, {\"Date\": \"2020-09-29T00:00:00\", \"Candidate\": \"Biden\", \"Source\": \"FiveThirtyEight\", \"Win Probability\": 0.77935}, {\"Date\": \"2020-09-30T00:00:00\", \"Candidate\": \"Biden\", \"Source\": \"FiveThirtyEight\", \"Win Probability\": 0.78185}, {\"Date\": \"2020-10-01T00:00:00\", \"Candidate\": \"Biden\", \"Source\": \"FiveThirtyEight\", \"Win Probability\": 0.799275}, {\"Date\": \"2020-10-02T00:00:00\", \"Candidate\": \"Biden\", \"Source\": \"FiveThirtyEight\", \"Win Probability\": 0.79335}, {\"Date\": \"2020-10-03T00:00:00\", \"Candidate\": \"Biden\", \"Source\": \"FiveThirtyEight\", \"Win Probability\": 0.801225}, {\"Date\": \"2020-10-04T00:00:00\", \"Candidate\": \"Biden\", \"Source\": \"FiveThirtyEight\", \"Win Probability\": 0.80915}, {\"Date\": \"2020-10-05T00:00:00\", \"Candidate\": \"Biden\", \"Source\": \"FiveThirtyEight\", \"Win Probability\": 0.814125}, {\"Date\": \"2020-10-06T00:00:00\", \"Candidate\": \"Biden\", \"Source\": \"FiveThirtyEight\", \"Win Probability\": 0.82345}, {\"Date\": \"2020-10-07T00:00:00\", \"Candidate\": \"Biden\", \"Source\": \"FiveThirtyEight\", \"Win Probability\": 0.83955}, {\"Date\": \"2020-10-08T00:00:00\", \"Candidate\": \"Biden\", \"Source\": \"FiveThirtyEight\", \"Win Probability\": 0.843975}, {\"Date\": \"2020-10-09T00:00:00\", \"Candidate\": \"Biden\", \"Source\": \"FiveThirtyEight\", \"Win Probability\": 0.84845}, {\"Date\": \"2020-10-10T00:00:00\", \"Candidate\": \"Biden\", \"Source\": \"FiveThirtyEight\", \"Win Probability\": 0.851475}, {\"Date\": \"2020-10-11T00:00:00\", \"Candidate\": \"Biden\", \"Source\": \"FiveThirtyEight\", \"Win Probability\": 0.85825}, {\"Date\": \"2020-10-12T00:00:00\", \"Candidate\": \"Biden\", \"Source\": \"FiveThirtyEight\", \"Win Probability\": 0.8621}, {\"Date\": \"2020-10-13T00:00:00\", \"Candidate\": \"Biden\", \"Source\": \"FiveThirtyEight\", \"Win Probability\": 0.866625}, {\"Date\": \"2020-10-14T00:00:00\", \"Candidate\": \"Biden\", \"Source\": \"FiveThirtyEight\", \"Win Probability\": 0.8657}, {\"Date\": \"2020-10-15T00:00:00\", \"Candidate\": \"Biden\", \"Source\": \"FiveThirtyEight\", \"Win Probability\": 0.867025}, {\"Date\": \"2020-10-16T00:00:00\", \"Candidate\": \"Biden\", \"Source\": \"FiveThirtyEight\", \"Win Probability\": 0.8677}, {\"Date\": \"2020-10-17T00:00:00\", \"Candidate\": \"Biden\", \"Source\": \"FiveThirtyEight\", \"Win Probability\": 0.87365}, {\"Date\": \"2020-10-18T00:00:00\", \"Candidate\": \"Biden\", \"Source\": \"FiveThirtyEight\", \"Win Probability\": 0.87355}, {\"Date\": \"2020-10-19T00:00:00\", \"Candidate\": \"Biden\", \"Source\": \"FiveThirtyEight\", \"Win Probability\": 0.875}, {\"Date\": \"2020-10-20T00:00:00\", \"Candidate\": \"Biden\", \"Source\": \"FiveThirtyEight\", \"Win Probability\": 0.870675}, {\"Date\": \"2020-10-21T00:00:00\", \"Candidate\": \"Biden\", \"Source\": \"FiveThirtyEight\", \"Win Probability\": 0.8666}, {\"Date\": \"2020-10-22T00:00:00\", \"Candidate\": \"Biden\", \"Source\": \"FiveThirtyEight\", \"Win Probability\": 0.872325}, {\"Date\": \"2020-10-23T00:00:00\", \"Candidate\": \"Biden\", \"Source\": \"FiveThirtyEight\", \"Win Probability\": 0.8688}, {\"Date\": \"2020-10-24T00:00:00\", \"Candidate\": \"Biden\", \"Source\": \"FiveThirtyEight\", \"Win Probability\": 0.864925}, {\"Date\": \"2020-10-25T00:00:00\", \"Candidate\": \"Biden\", \"Source\": \"FiveThirtyEight\", \"Win Probability\": 0.871125}, {\"Date\": \"2020-10-26T00:00:00\", \"Candidate\": \"Biden\", \"Source\": \"FiveThirtyEight\", \"Win Probability\": 0.870825}, {\"Date\": \"2020-10-27T00:00:00\", \"Candidate\": \"Biden\", \"Source\": \"FiveThirtyEight\", \"Win Probability\": 0.875525}]}}, {\"mode\": \"vega-lite\"});\n",
              "</script>"
            ]
          },
          "metadata": {
            "tags": []
          },
          "execution_count": 39
        }
      ]
    },
    {
      "cell_type": "markdown",
      "metadata": {
        "id": "Wvv6dnYH-nEJ"
      },
      "source": [
        "PredictIt has been more bullish on Trump throughout the campaign. Putting aside whether or not PredictIt is correctly pricing the probability of a Trump win, this chart presents Joe Biden's win probability indexed to his first win probability in the sample to illustrate the difference in the trend over time: "
      ]
    },
    {
      "cell_type": "code",
      "metadata": {
        "id": "XrN51Y5W_Xpx"
      },
      "source": [
        "#hide_input\n",
        "merged_biden[\"Win Probability (Indexed)\"] = \\\n",
        "100 * merged_biden[\"Win Probability\"] / merged_biden.groupby([\"Source\", \"Candidate\"]).transform(\"first\")[\"Win Probability\"]"
      ],
      "execution_count": null,
      "outputs": []
    },
    {
      "cell_type": "code",
      "metadata": {
        "id": "Ub8JCPmpDLl0",
        "outputId": "2a7eca4b-95a5-44a1-b466-fd82696d8d11",
        "colab": {
          "base_uri": "https://localhost:8080/",
          "height": 428
        }
      },
      "source": [
        "#hide_input\n",
        "alt.Chart(merged_biden).mark_line().encode(\n",
        "    x='Date',\n",
        "    y=alt.Y('Win Probability (Indexed)',\n",
        "        scale=alt.Scale(domain=[70,130])\n",
        "    ),\n",
        "    color=alt.Color('Source',\n",
        "                   scale=alt.Scale(\n",
        "            domain=['FiveThirtyEight', 'PredictIt'],\n",
        "            range=['rgb(222,119,72)', 'rgb(70,159,184'])),\n",
        "    tooltip=['Date', \"Source\", \"Win Probability (Indexed)\"], \n",
        ").properties(\n",
        "    title = \"Biden's Election Probabilites (Indexed)\"\n",
        ")"
      ],
      "execution_count": null,
      "outputs": [
        {
          "output_type": "execute_result",
          "data": {
            "text/plain": [
              "alt.Chart(...)"
            ],
            "text/html": [
              "\n",
              "<div id=\"altair-viz-2ddbe050cb0343faa85df6c253caf4cc\"></div>\n",
              "<script type=\"text/javascript\">\n",
              "  (function(spec, embedOpt){\n",
              "    let outputDiv = document.currentScript.previousElementSibling;\n",
              "    if (outputDiv.id !== \"altair-viz-2ddbe050cb0343faa85df6c253caf4cc\") {\n",
              "      outputDiv = document.getElementById(\"altair-viz-2ddbe050cb0343faa85df6c253caf4cc\");\n",
              "    }\n",
              "    const paths = {\n",
              "      \"vega\": \"https://cdn.jsdelivr.net/npm//vega@5?noext\",\n",
              "      \"vega-lib\": \"https://cdn.jsdelivr.net/npm//vega-lib?noext\",\n",
              "      \"vega-lite\": \"https://cdn.jsdelivr.net/npm//vega-lite@4.8.1?noext\",\n",
              "      \"vega-embed\": \"https://cdn.jsdelivr.net/npm//vega-embed@6?noext\",\n",
              "    };\n",
              "\n",
              "    function loadScript(lib) {\n",
              "      return new Promise(function(resolve, reject) {\n",
              "        var s = document.createElement('script');\n",
              "        s.src = paths[lib];\n",
              "        s.async = true;\n",
              "        s.onload = () => resolve(paths[lib]);\n",
              "        s.onerror = () => reject(`Error loading script: ${paths[lib]}`);\n",
              "        document.getElementsByTagName(\"head\")[0].appendChild(s);\n",
              "      });\n",
              "    }\n",
              "\n",
              "    function showError(err) {\n",
              "      outputDiv.innerHTML = `<div class=\"error\" style=\"color:red;\">${err}</div>`;\n",
              "      throw err;\n",
              "    }\n",
              "\n",
              "    function displayChart(vegaEmbed) {\n",
              "      vegaEmbed(outputDiv, spec, embedOpt)\n",
              "        .catch(err => showError(`Javascript Error: ${err.message}<br>This usually means there's a typo in your chart specification. See the javascript console for the full traceback.`));\n",
              "    }\n",
              "\n",
              "    if(typeof define === \"function\" && define.amd) {\n",
              "      requirejs.config({paths});\n",
              "      require([\"vega-embed\"], displayChart, err => showError(`Error loading script: ${err.message}`));\n",
              "    } else if (typeof vegaEmbed === \"function\") {\n",
              "      displayChart(vegaEmbed);\n",
              "    } else {\n",
              "      loadScript(\"vega\")\n",
              "        .then(() => loadScript(\"vega-lite\"))\n",
              "        .then(() => loadScript(\"vega-embed\"))\n",
              "        .catch(showError)\n",
              "        .then(() => displayChart(vegaEmbed));\n",
              "    }\n",
              "  })({\"usermeta\": {\"embedOptions\": {\"theme\": \"fivethirtyeight\"}}, \"config\": {\"view\": {\"continuousWidth\": 400, \"continuousHeight\": 300}}, \"data\": {\"name\": \"data-e697a23d6529670e78bc65c72d629800\"}, \"mark\": \"line\", \"encoding\": {\"color\": {\"type\": \"nominal\", \"field\": \"Source\", \"scale\": {\"domain\": [\"FiveThirtyEight\", \"PredictIt\"], \"range\": [\"rgb(222,119,72)\", \"rgb(70,159,184\"]}}, \"tooltip\": [{\"type\": \"temporal\", \"field\": \"Date\"}, {\"type\": \"nominal\", \"field\": \"Source\"}, {\"type\": \"quantitative\", \"field\": \"Win Probability (Indexed)\"}], \"x\": {\"type\": \"temporal\", \"field\": \"Date\"}, \"y\": {\"type\": \"quantitative\", \"field\": \"Win Probability (Indexed)\", \"scale\": {\"domain\": [70, 130]}}}, \"title\": \"Biden's Election Probabilites (Indexed)\", \"$schema\": \"https://vega.github.io/schema/vega-lite/v4.8.1.json\", \"datasets\": {\"data-e697a23d6529670e78bc65c72d629800\": [{\"Date\": \"2020-08-11T00:00:00\", \"Candidate\": \"Biden\", \"Source\": \"PredictIt\", \"Win Probability\": 0.59, \"Win Probability (Indexed)\": 100.0}, {\"Date\": \"2020-08-12T00:00:00\", \"Candidate\": \"Biden\", \"Source\": \"PredictIt\", \"Win Probability\": 0.59, \"Win Probability (Indexed)\": 100.0}, {\"Date\": \"2020-08-13T00:00:00\", \"Candidate\": \"Biden\", \"Source\": \"PredictIt\", \"Win Probability\": 0.58, \"Win Probability (Indexed)\": 98.3050847457627}, {\"Date\": \"2020-08-14T00:00:00\", \"Candidate\": \"Biden\", \"Source\": \"PredictIt\", \"Win Probability\": 0.58, \"Win Probability (Indexed)\": 98.3050847457627}, {\"Date\": \"2020-08-15T00:00:00\", \"Candidate\": \"Biden\", \"Source\": \"PredictIt\", \"Win Probability\": 0.58, \"Win Probability (Indexed)\": 98.3050847457627}, {\"Date\": \"2020-08-16T00:00:00\", \"Candidate\": \"Biden\", \"Source\": \"PredictIt\", \"Win Probability\": 0.58, \"Win Probability (Indexed)\": 98.3050847457627}, {\"Date\": \"2020-08-17T00:00:00\", \"Candidate\": \"Biden\", \"Source\": \"PredictIt\", \"Win Probability\": 0.58, \"Win Probability (Indexed)\": 98.3050847457627}, {\"Date\": \"2020-08-18T00:00:00\", \"Candidate\": \"Biden\", \"Source\": \"PredictIt\", \"Win Probability\": 0.57, \"Win Probability (Indexed)\": 96.61016949152541}, {\"Date\": \"2020-08-19T00:00:00\", \"Candidate\": \"Biden\", \"Source\": \"PredictIt\", \"Win Probability\": 0.59, \"Win Probability (Indexed)\": 100.0}, {\"Date\": \"2020-08-20T00:00:00\", \"Candidate\": \"Biden\", \"Source\": \"PredictIt\", \"Win Probability\": 0.6, \"Win Probability (Indexed)\": 101.69491525423729}, {\"Date\": \"2020-08-21T00:00:00\", \"Candidate\": \"Biden\", \"Source\": \"PredictIt\", \"Win Probability\": 0.59, \"Win Probability (Indexed)\": 100.0}, {\"Date\": \"2020-08-22T00:00:00\", \"Candidate\": \"Biden\", \"Source\": \"PredictIt\", \"Win Probability\": 0.59, \"Win Probability (Indexed)\": 100.0}, {\"Date\": \"2020-08-23T00:00:00\", \"Candidate\": \"Biden\", \"Source\": \"PredictIt\", \"Win Probability\": 0.59, \"Win Probability (Indexed)\": 100.0}, {\"Date\": \"2020-08-24T00:00:00\", \"Candidate\": \"Biden\", \"Source\": \"PredictIt\", \"Win Probability\": 0.6, \"Win Probability (Indexed)\": 101.69491525423729}, {\"Date\": \"2020-08-25T00:00:00\", \"Candidate\": \"Biden\", \"Source\": \"PredictIt\", \"Win Probability\": 0.59, \"Win Probability (Indexed)\": 100.0}, {\"Date\": \"2020-08-26T00:00:00\", \"Candidate\": \"Biden\", \"Source\": \"PredictIt\", \"Win Probability\": 0.57, \"Win Probability (Indexed)\": 96.61016949152541}, {\"Date\": \"2020-08-27T00:00:00\", \"Candidate\": \"Biden\", \"Source\": \"PredictIt\", \"Win Probability\": 0.57, \"Win Probability (Indexed)\": 96.61016949152541}, {\"Date\": \"2020-08-28T00:00:00\", \"Candidate\": \"Biden\", \"Source\": \"PredictIt\", \"Win Probability\": 0.56, \"Win Probability (Indexed)\": 94.91525423728815}, {\"Date\": \"2020-08-29T00:00:00\", \"Candidate\": \"Biden\", \"Source\": \"PredictIt\", \"Win Probability\": 0.55, \"Win Probability (Indexed)\": 93.22033898305087}, {\"Date\": \"2020-08-30T00:00:00\", \"Candidate\": \"Biden\", \"Source\": \"PredictIt\", \"Win Probability\": 0.56, \"Win Probability (Indexed)\": 94.91525423728815}, {\"Date\": \"2020-08-31T00:00:00\", \"Candidate\": \"Biden\", \"Source\": \"PredictIt\", \"Win Probability\": 0.58, \"Win Probability (Indexed)\": 98.3050847457627}, {\"Date\": \"2020-09-01T00:00:00\", \"Candidate\": \"Biden\", \"Source\": \"PredictIt\", \"Win Probability\": 0.56, \"Win Probability (Indexed)\": 94.91525423728815}, {\"Date\": \"2020-09-02T00:00:00\", \"Candidate\": \"Biden\", \"Source\": \"PredictIt\", \"Win Probability\": 0.58, \"Win Probability (Indexed)\": 98.3050847457627}, {\"Date\": \"2020-09-03T00:00:00\", \"Candidate\": \"Biden\", \"Source\": \"PredictIt\", \"Win Probability\": 0.58, \"Win Probability (Indexed)\": 98.3050847457627}, {\"Date\": \"2020-09-04T00:00:00\", \"Candidate\": \"Biden\", \"Source\": \"PredictIt\", \"Win Probability\": 0.59, \"Win Probability (Indexed)\": 100.0}, {\"Date\": \"2020-09-05T00:00:00\", \"Candidate\": \"Biden\", \"Source\": \"PredictIt\", \"Win Probability\": 0.58, \"Win Probability (Indexed)\": 98.3050847457627}, {\"Date\": \"2020-09-06T00:00:00\", \"Candidate\": \"Biden\", \"Source\": \"PredictIt\", \"Win Probability\": 0.58, \"Win Probability (Indexed)\": 98.3050847457627}, {\"Date\": \"2020-09-07T00:00:00\", \"Candidate\": \"Biden\", \"Source\": \"PredictIt\", \"Win Probability\": 0.59, \"Win Probability (Indexed)\": 100.0}, {\"Date\": \"2020-09-08T00:00:00\", \"Candidate\": \"Biden\", \"Source\": \"PredictIt\", \"Win Probability\": 0.59, \"Win Probability (Indexed)\": 100.0}, {\"Date\": \"2020-09-09T00:00:00\", \"Candidate\": \"Biden\", \"Source\": \"PredictIt\", \"Win Probability\": 0.58, \"Win Probability (Indexed)\": 98.3050847457627}, {\"Date\": \"2020-09-10T00:00:00\", \"Candidate\": \"Biden\", \"Source\": \"PredictIt\", \"Win Probability\": 0.58, \"Win Probability (Indexed)\": 98.3050847457627}, {\"Date\": \"2020-09-11T00:00:00\", \"Candidate\": \"Biden\", \"Source\": \"PredictIt\", \"Win Probability\": 0.59, \"Win Probability (Indexed)\": 100.0}, {\"Date\": \"2020-09-12T00:00:00\", \"Candidate\": \"Biden\", \"Source\": \"PredictIt\", \"Win Probability\": 0.59, \"Win Probability (Indexed)\": 100.0}, {\"Date\": \"2020-09-13T00:00:00\", \"Candidate\": \"Biden\", \"Source\": \"PredictIt\", \"Win Probability\": 0.59, \"Win Probability (Indexed)\": 100.0}, {\"Date\": \"2020-09-14T00:00:00\", \"Candidate\": \"Biden\", \"Source\": \"PredictIt\", \"Win Probability\": 0.59, \"Win Probability (Indexed)\": 100.0}, {\"Date\": \"2020-09-15T00:00:00\", \"Candidate\": \"Biden\", \"Source\": \"PredictIt\", \"Win Probability\": 0.58, \"Win Probability (Indexed)\": 98.3050847457627}, {\"Date\": \"2020-09-16T00:00:00\", \"Candidate\": \"Biden\", \"Source\": \"PredictIt\", \"Win Probability\": 0.58, \"Win Probability (Indexed)\": 98.3050847457627}, {\"Date\": \"2020-09-17T00:00:00\", \"Candidate\": \"Biden\", \"Source\": \"PredictIt\", \"Win Probability\": 0.58, \"Win Probability (Indexed)\": 98.3050847457627}, {\"Date\": \"2020-09-18T00:00:00\", \"Candidate\": \"Biden\", \"Source\": \"PredictIt\", \"Win Probability\": 0.58, \"Win Probability (Indexed)\": 98.3050847457627}, {\"Date\": \"2020-09-19T00:00:00\", \"Candidate\": \"Biden\", \"Source\": \"PredictIt\", \"Win Probability\": 0.58, \"Win Probability (Indexed)\": 98.3050847457627}, {\"Date\": \"2020-09-20T00:00:00\", \"Candidate\": \"Biden\", \"Source\": \"PredictIt\", \"Win Probability\": 0.57, \"Win Probability (Indexed)\": 96.61016949152541}, {\"Date\": \"2020-09-21T00:00:00\", \"Candidate\": \"Biden\", \"Source\": \"PredictIt\", \"Win Probability\": 0.58, \"Win Probability (Indexed)\": 98.3050847457627}, {\"Date\": \"2020-09-22T00:00:00\", \"Candidate\": \"Biden\", \"Source\": \"PredictIt\", \"Win Probability\": 0.58, \"Win Probability (Indexed)\": 98.3050847457627}, {\"Date\": \"2020-09-23T00:00:00\", \"Candidate\": \"Biden\", \"Source\": \"PredictIt\", \"Win Probability\": 0.57, \"Win Probability (Indexed)\": 96.61016949152541}, {\"Date\": \"2020-09-24T00:00:00\", \"Candidate\": \"Biden\", \"Source\": \"PredictIt\", \"Win Probability\": 0.57, \"Win Probability (Indexed)\": 96.61016949152541}, {\"Date\": \"2020-09-25T00:00:00\", \"Candidate\": \"Biden\", \"Source\": \"PredictIt\", \"Win Probability\": 0.57, \"Win Probability (Indexed)\": 96.61016949152541}, {\"Date\": \"2020-09-26T00:00:00\", \"Candidate\": \"Biden\", \"Source\": \"PredictIt\", \"Win Probability\": 0.57, \"Win Probability (Indexed)\": 96.61016949152541}, {\"Date\": \"2020-09-27T00:00:00\", \"Candidate\": \"Biden\", \"Source\": \"PredictIt\", \"Win Probability\": 0.58, \"Win Probability (Indexed)\": 98.3050847457627}, {\"Date\": \"2020-09-28T00:00:00\", \"Candidate\": \"Biden\", \"Source\": \"PredictIt\", \"Win Probability\": 0.59, \"Win Probability (Indexed)\": 100.0}, {\"Date\": \"2020-09-29T00:00:00\", \"Candidate\": \"Biden\", \"Source\": \"PredictIt\", \"Win Probability\": 0.59, \"Win Probability (Indexed)\": 100.0}, {\"Date\": \"2020-09-30T00:00:00\", \"Candidate\": \"Biden\", \"Source\": \"PredictIt\", \"Win Probability\": 0.62, \"Win Probability (Indexed)\": 105.08474576271188}, {\"Date\": \"2020-10-01T00:00:00\", \"Candidate\": \"Biden\", \"Source\": \"PredictIt\", \"Win Probability\": 0.66, \"Win Probability (Indexed)\": 111.86440677966102}, {\"Date\": \"2020-10-02T00:00:00\", \"Candidate\": \"Biden\", \"Source\": \"PredictIt\", \"Win Probability\": 0.64, \"Win Probability (Indexed)\": 108.47457627118645}, {\"Date\": \"2020-10-03T00:00:00\", \"Candidate\": \"Biden\", \"Source\": \"PredictIt\", \"Win Probability\": 0.63, \"Win Probability (Indexed)\": 106.77966101694916}, {\"Date\": \"2020-10-04T00:00:00\", \"Candidate\": \"Biden\", \"Source\": \"PredictIt\", \"Win Probability\": 0.64, \"Win Probability (Indexed)\": 108.47457627118645}, {\"Date\": \"2020-10-05T00:00:00\", \"Candidate\": \"Biden\", \"Source\": \"PredictIt\", \"Win Probability\": 0.63, \"Win Probability (Indexed)\": 106.77966101694916}, {\"Date\": \"2020-10-06T00:00:00\", \"Candidate\": \"Biden\", \"Source\": \"PredictIt\", \"Win Probability\": 0.66, \"Win Probability (Indexed)\": 111.86440677966102}, {\"Date\": \"2020-10-07T00:00:00\", \"Candidate\": \"Biden\", \"Source\": \"PredictIt\", \"Win Probability\": 0.67, \"Win Probability (Indexed)\": 113.55932203389831}, {\"Date\": \"2020-10-08T00:00:00\", \"Candidate\": \"Biden\", \"Source\": \"PredictIt\", \"Win Probability\": 0.67, \"Win Probability (Indexed)\": 113.55932203389831}, {\"Date\": \"2020-10-09T00:00:00\", \"Candidate\": \"Biden\", \"Source\": \"PredictIt\", \"Win Probability\": 0.68, \"Win Probability (Indexed)\": 115.2542372881356}, {\"Date\": \"2020-10-10T00:00:00\", \"Candidate\": \"Biden\", \"Source\": \"PredictIt\", \"Win Probability\": 0.65, \"Win Probability (Indexed)\": 110.16949152542374}, {\"Date\": \"2020-10-11T00:00:00\", \"Candidate\": \"Biden\", \"Source\": \"PredictIt\", \"Win Probability\": 0.67, \"Win Probability (Indexed)\": 113.55932203389831}, {\"Date\": \"2020-10-12T00:00:00\", \"Candidate\": \"Biden\", \"Source\": \"PredictIt\", \"Win Probability\": 0.65, \"Win Probability (Indexed)\": 110.16949152542374}, {\"Date\": \"2020-10-13T00:00:00\", \"Candidate\": \"Biden\", \"Source\": \"PredictIt\", \"Win Probability\": 0.66, \"Win Probability (Indexed)\": 111.86440677966102}, {\"Date\": \"2020-10-14T00:00:00\", \"Candidate\": \"Biden\", \"Source\": \"PredictIt\", \"Win Probability\": 0.65, \"Win Probability (Indexed)\": 110.16949152542374}, {\"Date\": \"2020-10-15T00:00:00\", \"Candidate\": \"Biden\", \"Source\": \"PredictIt\", \"Win Probability\": 0.66, \"Win Probability (Indexed)\": 111.86440677966102}, {\"Date\": \"2020-10-16T00:00:00\", \"Candidate\": \"Biden\", \"Source\": \"PredictIt\", \"Win Probability\": 0.65, \"Win Probability (Indexed)\": 110.16949152542374}, {\"Date\": \"2020-10-17T00:00:00\", \"Candidate\": \"Biden\", \"Source\": \"PredictIt\", \"Win Probability\": 0.65, \"Win Probability (Indexed)\": 110.16949152542374}, {\"Date\": \"2020-10-18T00:00:00\", \"Candidate\": \"Biden\", \"Source\": \"PredictIt\", \"Win Probability\": 0.64, \"Win Probability (Indexed)\": 108.47457627118645}, {\"Date\": \"2020-10-19T00:00:00\", \"Candidate\": \"Biden\", \"Source\": \"PredictIt\", \"Win Probability\": 0.65, \"Win Probability (Indexed)\": 110.16949152542374}, {\"Date\": \"2020-10-20T00:00:00\", \"Candidate\": \"Biden\", \"Source\": \"PredictIt\", \"Win Probability\": 0.64, \"Win Probability (Indexed)\": 108.47457627118645}, {\"Date\": \"2020-10-21T00:00:00\", \"Candidate\": \"Biden\", \"Source\": \"PredictIt\", \"Win Probability\": 0.65, \"Win Probability (Indexed)\": 110.16949152542374}, {\"Date\": \"2020-10-22T00:00:00\", \"Candidate\": \"Biden\", \"Source\": \"PredictIt\", \"Win Probability\": 0.64, \"Win Probability (Indexed)\": 108.47457627118645}, {\"Date\": \"2020-10-23T00:00:00\", \"Candidate\": \"Biden\", \"Source\": \"PredictIt\", \"Win Probability\": 0.64, \"Win Probability (Indexed)\": 108.47457627118645}, {\"Date\": \"2020-10-24T00:00:00\", \"Candidate\": \"Biden\", \"Source\": \"PredictIt\", \"Win Probability\": 0.64, \"Win Probability (Indexed)\": 108.47457627118645}, {\"Date\": \"2020-10-25T00:00:00\", \"Candidate\": \"Biden\", \"Source\": \"PredictIt\", \"Win Probability\": 0.64, \"Win Probability (Indexed)\": 108.47457627118645}, {\"Date\": \"2020-10-26T00:00:00\", \"Candidate\": \"Biden\", \"Source\": \"PredictIt\", \"Win Probability\": 0.64, \"Win Probability (Indexed)\": 108.47457627118645}, {\"Date\": \"2020-10-27T00:00:00\", \"Candidate\": \"Biden\", \"Source\": \"PredictIt\", \"Win Probability\": 0.63, \"Win Probability (Indexed)\": 106.77966101694916}, {\"Date\": \"2020-08-11T00:00:00\", \"Candidate\": \"Biden\", \"Source\": \"FiveThirtyEight\", \"Win Probability\": 0.71025, \"Win Probability (Indexed)\": 100.0}, {\"Date\": \"2020-08-12T00:00:00\", \"Candidate\": \"Biden\", \"Source\": \"FiveThirtyEight\", \"Win Probability\": 0.70875, \"Win Probability (Indexed)\": 99.78880675818372}, {\"Date\": \"2020-08-13T00:00:00\", \"Candidate\": \"Biden\", \"Source\": \"FiveThirtyEight\", \"Win Probability\": 0.7216, \"Win Probability (Indexed)\": 101.59802886307637}, {\"Date\": \"2020-08-14T00:00:00\", \"Candidate\": \"Biden\", \"Source\": \"FiveThirtyEight\", \"Win Probability\": 0.72925, \"Win Probability (Indexed)\": 102.67511439633931}, {\"Date\": \"2020-08-15T00:00:00\", \"Candidate\": \"Biden\", \"Source\": \"FiveThirtyEight\", \"Win Probability\": 0.71915, \"Win Probability (Indexed)\": 101.25307990144313}, {\"Date\": \"2020-08-16T00:00:00\", \"Candidate\": \"Biden\", \"Source\": \"FiveThirtyEight\", \"Win Probability\": 0.7145, \"Win Probability (Indexed)\": 100.59838085181273}, {\"Date\": \"2020-08-17T00:00:00\", \"Candidate\": \"Biden\", \"Source\": \"FiveThirtyEight\", \"Win Probability\": 0.72375, \"Win Probability (Indexed)\": 101.90073917634635}, {\"Date\": \"2020-08-18T00:00:00\", \"Candidate\": \"Biden\", \"Source\": \"FiveThirtyEight\", \"Win Probability\": 0.7291, \"Win Probability (Indexed)\": 102.65399507215768}, {\"Date\": \"2020-08-19T00:00:00\", \"Candidate\": \"Biden\", \"Source\": \"FiveThirtyEight\", \"Win Probability\": 0.717275, \"Win Probability (Indexed)\": 100.98908834917283}, {\"Date\": \"2020-08-20T00:00:00\", \"Candidate\": \"Biden\", \"Source\": \"FiveThirtyEight\", \"Win Probability\": 0.722825, \"Win Probability (Indexed)\": 101.77050334389298}, {\"Date\": \"2020-08-21T00:00:00\", \"Candidate\": \"Biden\", \"Source\": \"FiveThirtyEight\", \"Win Probability\": 0.72875, \"Win Probability (Indexed)\": 102.60471664906723}, {\"Date\": \"2020-08-22T00:00:00\", \"Candidate\": \"Biden\", \"Source\": \"FiveThirtyEight\", \"Win Probability\": 0.7255, \"Win Probability (Indexed)\": 102.14713129179866}, {\"Date\": \"2020-08-23T00:00:00\", \"Candidate\": \"Biden\", \"Source\": \"FiveThirtyEight\", \"Win Probability\": 0.729625, \"Win Probability (Indexed)\": 102.72791270679336}, {\"Date\": \"2020-08-24T00:00:00\", \"Candidate\": \"Biden\", \"Source\": \"FiveThirtyEight\", \"Win Probability\": 0.726975, \"Win Probability (Indexed)\": 102.35480464625132}, {\"Date\": \"2020-08-25T00:00:00\", \"Candidate\": \"Biden\", \"Source\": \"FiveThirtyEight\", \"Win Probability\": 0.725875, \"Win Probability (Indexed)\": 102.19992960225272}, {\"Date\": \"2020-08-26T00:00:00\", \"Candidate\": \"Biden\", \"Source\": \"FiveThirtyEight\", \"Win Probability\": 0.69555, \"Win Probability (Indexed)\": 97.93030623020064}, {\"Date\": \"2020-08-27T00:00:00\", \"Candidate\": \"Biden\", \"Source\": \"FiveThirtyEight\", \"Win Probability\": 0.6964, \"Win Probability (Indexed)\": 98.04998240056318}, {\"Date\": \"2020-08-28T00:00:00\", \"Candidate\": \"Biden\", \"Source\": \"FiveThirtyEight\", \"Win Probability\": 0.692525, \"Win Probability (Indexed)\": 97.5043998592045}, {\"Date\": \"2020-08-29T00:00:00\", \"Candidate\": \"Biden\", \"Source\": \"FiveThirtyEight\", \"Win Probability\": 0.6882, \"Win Probability (Indexed)\": 96.89545934530095}, {\"Date\": \"2020-08-30T00:00:00\", \"Candidate\": \"Biden\", \"Source\": \"FiveThirtyEight\", \"Win Probability\": 0.6865, \"Win Probability (Indexed)\": 96.65610700457586}, {\"Date\": \"2020-08-31T00:00:00\", \"Candidate\": \"Biden\", \"Source\": \"FiveThirtyEight\", \"Win Probability\": 0.673975, \"Win Probability (Indexed)\": 94.89264343541005}, {\"Date\": \"2020-09-01T00:00:00\", \"Candidate\": \"Biden\", \"Source\": \"FiveThirtyEight\", \"Win Probability\": 0.6881, \"Win Probability (Indexed)\": 96.88137979584653}, {\"Date\": \"2020-09-02T00:00:00\", \"Candidate\": \"Biden\", \"Source\": \"FiveThirtyEight\", \"Win Probability\": 0.703325, \"Win Probability (Indexed)\": 99.02499120028158}, {\"Date\": \"2020-09-03T00:00:00\", \"Candidate\": \"Biden\", \"Source\": \"FiveThirtyEight\", \"Win Probability\": 0.7013, \"Win Probability (Indexed)\": 98.73988032382964}, {\"Date\": \"2020-09-04T00:00:00\", \"Candidate\": \"Biden\", \"Source\": \"FiveThirtyEight\", \"Win Probability\": 0.7081, \"Win Probability (Indexed)\": 99.69728968673002}, {\"Date\": \"2020-09-05T00:00:00\", \"Candidate\": \"Biden\", \"Source\": \"FiveThirtyEight\", \"Win Probability\": 0.7034, \"Win Probability (Indexed)\": 99.0355508623724}, {\"Date\": \"2020-09-06T00:00:00\", \"Candidate\": \"Biden\", \"Source\": \"FiveThirtyEight\", \"Win Probability\": 0.708875, \"Win Probability (Indexed)\": 99.80640619500176}, {\"Date\": \"2020-09-07T00:00:00\", \"Candidate\": \"Biden\", \"Source\": \"FiveThirtyEight\", \"Win Probability\": 0.710275, \"Win Probability (Indexed)\": 100.00351988736361}, {\"Date\": \"2020-09-08T00:00:00\", \"Candidate\": \"Biden\", \"Source\": \"FiveThirtyEight\", \"Win Probability\": 0.711825, \"Win Probability (Indexed)\": 100.22175290390707}, {\"Date\": \"2020-09-09T00:00:00\", \"Candidate\": \"Biden\", \"Source\": \"FiveThirtyEight\", \"Win Probability\": 0.741525, \"Win Probability (Indexed)\": 104.40337909186906}, {\"Date\": \"2020-09-10T00:00:00\", \"Candidate\": \"Biden\", \"Source\": \"FiveThirtyEight\", \"Win Probability\": 0.7457, \"Win Probability (Indexed)\": 104.99120028159099}, {\"Date\": \"2020-09-11T00:00:00\", \"Candidate\": \"Biden\", \"Source\": \"FiveThirtyEight\", \"Win Probability\": 0.754575, \"Win Probability (Indexed)\": 106.24076029567053}, {\"Date\": \"2020-09-12T00:00:00\", \"Candidate\": \"Biden\", \"Source\": \"FiveThirtyEight\", \"Win Probability\": 0.749775, \"Win Probability (Indexed)\": 105.56494192185848}, {\"Date\": \"2020-09-13T00:00:00\", \"Candidate\": \"Biden\", \"Source\": \"FiveThirtyEight\", \"Win Probability\": 0.754475, \"Win Probability (Indexed)\": 106.22668074621612}, {\"Date\": \"2020-09-14T00:00:00\", \"Candidate\": \"Biden\", \"Source\": \"FiveThirtyEight\", \"Win Probability\": 0.755925, \"Win Probability (Indexed)\": 106.43083421330518}, {\"Date\": \"2020-09-15T00:00:00\", \"Candidate\": \"Biden\", \"Source\": \"FiveThirtyEight\", \"Win Probability\": 0.757575, \"Win Probability (Indexed)\": 106.66314677930305}, {\"Date\": \"2020-09-16T00:00:00\", \"Candidate\": \"Biden\", \"Source\": \"FiveThirtyEight\", \"Win Probability\": 0.760775, \"Win Probability (Indexed)\": 107.11369236184441}, {\"Date\": \"2020-09-17T00:00:00\", \"Candidate\": \"Biden\", \"Source\": \"FiveThirtyEight\", \"Win Probability\": 0.7579, \"Win Probability (Indexed)\": 106.70890531502992}, {\"Date\": \"2020-09-18T00:00:00\", \"Candidate\": \"Biden\", \"Source\": \"FiveThirtyEight\", \"Win Probability\": 0.768, \"Win Probability (Indexed)\": 108.13093980992608}, {\"Date\": \"2020-09-19T00:00:00\", \"Candidate\": \"Biden\", \"Source\": \"FiveThirtyEight\", \"Win Probability\": 0.771425, \"Win Probability (Indexed)\": 108.61316437873987}, {\"Date\": \"2020-09-20T00:00:00\", \"Candidate\": \"Biden\", \"Source\": \"FiveThirtyEight\", \"Win Probability\": 0.76835, \"Win Probability (Indexed)\": 108.18021823301653}, {\"Date\": \"2020-09-21T00:00:00\", \"Candidate\": \"Biden\", \"Source\": \"FiveThirtyEight\", \"Win Probability\": 0.769225, \"Win Probability (Indexed)\": 108.3034142907427}, {\"Date\": \"2020-09-22T00:00:00\", \"Candidate\": \"Biden\", \"Source\": \"FiveThirtyEight\", \"Win Probability\": 0.7686, \"Win Probability (Indexed)\": 108.21541710665258}, {\"Date\": \"2020-09-23T00:00:00\", \"Candidate\": \"Biden\", \"Source\": \"FiveThirtyEight\", \"Win Probability\": 0.772925, \"Win Probability (Indexed)\": 108.82435762055614}, {\"Date\": \"2020-09-24T00:00:00\", \"Candidate\": \"Biden\", \"Source\": \"FiveThirtyEight\", \"Win Probability\": 0.766175, \"Win Probability (Indexed)\": 107.87398803238297}, {\"Date\": \"2020-09-25T00:00:00\", \"Candidate\": \"Biden\", \"Source\": \"FiveThirtyEight\", \"Win Probability\": 0.76685, \"Win Probability (Indexed)\": 107.96902499120027}, {\"Date\": \"2020-09-26T00:00:00\", \"Candidate\": \"Biden\", \"Source\": \"FiveThirtyEight\", \"Win Probability\": 0.769675, \"Win Probability (Indexed)\": 108.36677226328757}, {\"Date\": \"2020-09-27T00:00:00\", \"Candidate\": \"Biden\", \"Source\": \"FiveThirtyEight\", \"Win Probability\": 0.7756, \"Win Probability (Indexed)\": 109.2009855684618}, {\"Date\": \"2020-09-28T00:00:00\", \"Candidate\": \"Biden\", \"Source\": \"FiveThirtyEight\", \"Win Probability\": 0.775725, \"Win Probability (Indexed)\": 109.21858500527983}, {\"Date\": \"2020-09-29T00:00:00\", \"Candidate\": \"Biden\", \"Source\": \"FiveThirtyEight\", \"Win Probability\": 0.77935, \"Win Probability (Indexed)\": 109.72896867300246}, {\"Date\": \"2020-09-30T00:00:00\", \"Candidate\": \"Biden\", \"Source\": \"FiveThirtyEight\", \"Win Probability\": 0.78185, \"Win Probability (Indexed)\": 110.0809574093629}, {\"Date\": \"2020-10-01T00:00:00\", \"Candidate\": \"Biden\", \"Source\": \"FiveThirtyEight\", \"Win Probability\": 0.799275, \"Win Probability (Indexed)\": 112.53431890179513}, {\"Date\": \"2020-10-02T00:00:00\", \"Candidate\": \"Biden\", \"Source\": \"FiveThirtyEight\", \"Win Probability\": 0.79335, \"Win Probability (Indexed)\": 111.70010559662089}, {\"Date\": \"2020-10-03T00:00:00\", \"Candidate\": \"Biden\", \"Source\": \"FiveThirtyEight\", \"Win Probability\": 0.801225, \"Win Probability (Indexed)\": 112.80887011615629}, {\"Date\": \"2020-10-04T00:00:00\", \"Candidate\": \"Biden\", \"Source\": \"FiveThirtyEight\", \"Win Probability\": 0.80915, \"Win Probability (Indexed)\": 113.92467441041887}, {\"Date\": \"2020-10-05T00:00:00\", \"Candidate\": \"Biden\", \"Source\": \"FiveThirtyEight\", \"Win Probability\": 0.814125, \"Win Probability (Indexed)\": 114.62513199577612}, {\"Date\": \"2020-10-06T00:00:00\", \"Candidate\": \"Biden\", \"Source\": \"FiveThirtyEight\", \"Win Probability\": 0.82345, \"Win Probability (Indexed)\": 115.93804998240056}, {\"Date\": \"2020-10-07T00:00:00\", \"Candidate\": \"Biden\", \"Source\": \"FiveThirtyEight\", \"Win Probability\": 0.83955, \"Win Probability (Indexed)\": 118.20485744456177}, {\"Date\": \"2020-10-08T00:00:00\", \"Candidate\": \"Biden\", \"Source\": \"FiveThirtyEight\", \"Win Probability\": 0.843975, \"Win Probability (Indexed)\": 118.82787750791975}, {\"Date\": \"2020-10-09T00:00:00\", \"Candidate\": \"Biden\", \"Source\": \"FiveThirtyEight\", \"Win Probability\": 0.84845, \"Win Probability (Indexed)\": 119.45793734600491}, {\"Date\": \"2020-10-10T00:00:00\", \"Candidate\": \"Biden\", \"Source\": \"FiveThirtyEight\", \"Win Probability\": 0.851475, \"Win Probability (Indexed)\": 119.88384371700104}, {\"Date\": \"2020-10-11T00:00:00\", \"Candidate\": \"Biden\", \"Source\": \"FiveThirtyEight\", \"Win Probability\": 0.85825, \"Win Probability (Indexed)\": 120.83773319253781}, {\"Date\": \"2020-10-12T00:00:00\", \"Candidate\": \"Biden\", \"Source\": \"FiveThirtyEight\", \"Win Probability\": 0.8621, \"Win Probability (Indexed)\": 121.3797958465329}, {\"Date\": \"2020-10-13T00:00:00\", \"Candidate\": \"Biden\", \"Source\": \"FiveThirtyEight\", \"Win Probability\": 0.866625, \"Win Probability (Indexed)\": 122.01689545934528}, {\"Date\": \"2020-10-14T00:00:00\", \"Candidate\": \"Biden\", \"Source\": \"FiveThirtyEight\", \"Win Probability\": 0.8657, \"Win Probability (Indexed)\": 121.88665962689194}, {\"Date\": \"2020-10-15T00:00:00\", \"Candidate\": \"Biden\", \"Source\": \"FiveThirtyEight\", \"Win Probability\": 0.867025, \"Win Probability (Indexed)\": 122.07321365716297}, {\"Date\": \"2020-10-16T00:00:00\", \"Candidate\": \"Biden\", \"Source\": \"FiveThirtyEight\", \"Win Probability\": 0.8677, \"Win Probability (Indexed)\": 122.16825061598027}, {\"Date\": \"2020-10-17T00:00:00\", \"Candidate\": \"Biden\", \"Source\": \"FiveThirtyEight\", \"Win Probability\": 0.87365, \"Win Probability (Indexed)\": 123.00598380851814}, {\"Date\": \"2020-10-18T00:00:00\", \"Candidate\": \"Biden\", \"Source\": \"FiveThirtyEight\", \"Win Probability\": 0.87355, \"Win Probability (Indexed)\": 122.9919042590637}, {\"Date\": \"2020-10-19T00:00:00\", \"Candidate\": \"Biden\", \"Source\": \"FiveThirtyEight\", \"Win Probability\": 0.875, \"Win Probability (Indexed)\": 123.19605772615276}, {\"Date\": \"2020-10-20T00:00:00\", \"Candidate\": \"Biden\", \"Source\": \"FiveThirtyEight\", \"Win Probability\": 0.870675, \"Win Probability (Indexed)\": 122.5871172122492}, {\"Date\": \"2020-10-21T00:00:00\", \"Candidate\": \"Biden\", \"Source\": \"FiveThirtyEight\", \"Win Probability\": 0.8666, \"Win Probability (Indexed)\": 122.01337557198168}, {\"Date\": \"2020-10-22T00:00:00\", \"Candidate\": \"Biden\", \"Source\": \"FiveThirtyEight\", \"Win Probability\": 0.872325, \"Win Probability (Indexed)\": 122.81942977824708}, {\"Date\": \"2020-10-23T00:00:00\", \"Candidate\": \"Biden\", \"Source\": \"FiveThirtyEight\", \"Win Probability\": 0.8688, \"Win Probability (Indexed)\": 122.32312565997887}, {\"Date\": \"2020-10-24T00:00:00\", \"Candidate\": \"Biden\", \"Source\": \"FiveThirtyEight\", \"Win Probability\": 0.864925, \"Win Probability (Indexed)\": 121.7775431186202}, {\"Date\": \"2020-10-25T00:00:00\", \"Candidate\": \"Biden\", \"Source\": \"FiveThirtyEight\", \"Win Probability\": 0.871125, \"Win Probability (Indexed)\": 122.65047518479408}, {\"Date\": \"2020-10-26T00:00:00\", \"Candidate\": \"Biden\", \"Source\": \"FiveThirtyEight\", \"Win Probability\": 0.870825, \"Win Probability (Indexed)\": 122.60823653643082}, {\"Date\": \"2020-10-27T00:00:00\", \"Candidate\": \"Biden\", \"Source\": \"FiveThirtyEight\", \"Win Probability\": 0.875525, \"Win Probability (Indexed)\": 123.26997536078844}]}}, {\"mode\": \"vega-lite\"});\n",
              "</script>"
            ]
          },
          "metadata": {
            "tags": []
          },
          "execution_count": 42
        }
      ]
    },
    {
      "cell_type": "markdown",
      "metadata": {
        "id": "RYnN1ppUEpg8"
      },
      "source": [
        "Now that we've removed the differences between the FiveThirtyEight model we can clearly see how the two sources differ in how they evaluate the development of the race over time. Both FiveThirtyEight and PredictIt saw the race as fairly stable in August through early September. Then, Biden's odds begin to rise in the FiveThirtyEight model, but barely budged on PredictIt. The first debate and COVID diagnosis in late September showed up quickly in the PredictIt probability, and a bit later in the FiveThirtyEight probability (note the acceleration of Biden's upward trajectory in early October). Following those events Biden continued to make gains in the FiveThirtyEight model, but PredictIt movement settled down, with a modest tick back towards Trump. \n",
        "\n",
        "Given the structure of the prediction being made here, I'm inclined to say that the movement of probabilities in the FiveThirtyEight model makes more sense. As election day approaches (and more and more people have voted early) the potential for suprising events that could shake up the race decreases, and an accurate assessment of the probabilities should reflect that. This suggests an inefficiency in the PredictIt market. "
      ]
    }
  ]
}
